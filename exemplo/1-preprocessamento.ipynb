{
 "cells": [
  {
   "cell_type": "markdown",
   "metadata": {},
   "source": [
    "# Exemplo de uso.\n",
    "\n",
    "## Parte 1: Processamentos iniciais.\n",
    "\n",
    "Como esta etapa pode demorar bastante tempo para rodar, dependendo da máquina, é possível pular diretamente para a etapa 2, partindo de um arquivo já processado que foi disponibilizado."
   ]
  },
  {
   "cell_type": "markdown",
   "metadata": {},
   "source": [
    "Importando as bilbiotecas que serão utilizadas."
   ]
  },
  {
   "cell_type": "code",
   "execution_count": 3,
   "metadata": {},
   "outputs": [
    {
     "name": "stderr",
     "output_type": "stream",
     "text": [
      "[nltk_data] Downloading package wordnet to\n",
      "[nltk_data]     C:\\Users\\andre\\AppData\\Roaming\\nltk_data...\n",
      "[nltk_data]   Package wordnet is already up-to-date!\n",
      "[nltk_data] Downloading package punkt to\n",
      "[nltk_data]     C:\\Users\\andre\\AppData\\Roaming\\nltk_data...\n",
      "[nltk_data]   Package punkt is already up-to-date!\n"
     ]
    }
   ],
   "source": [
    "import pandas as pd\n",
    "import re\n",
    "from unidecode  import unidecode\n",
    "from tqdm.auto import tqdm\n",
    "import nltk\n",
    "from nltk.corpus import stopwords\n",
    "from nltk.stem import RSLPStemmer\n",
    "import spacy\n",
    "\n",
    "nltk.download('wordnet')\n",
    "nltk.download('punkt')\n",
    "tqdm.pandas()"
   ]
  },
  {
   "cell_type": "markdown",
   "metadata": {},
   "source": [
    "Importando o *dataset* de exemplo `tweets_prefeitos_2020.csv.gzip`.\n",
    "\n",
    "Como ele está compactado no formato `gzip`, é importante passar o parâmetro `compression='gzip'` para o método `read_csv` do *Pandas*."
   ]
  },
  {
   "cell_type": "code",
   "execution_count": 4,
   "metadata": {},
   "outputs": [],
   "source": [
    "df_tweets = pd.read_csv('../dados/tweets_prefeitos_2020.csv.gzip', compression='gzip')"
   ]
  },
  {
   "cell_type": "markdown",
   "metadata": {},
   "source": [
    "Adicionando a informação de alinhamento partidário de acordo com o que foi estabelecido na Tabela 2 do *codebook*:\n",
    "\n",
    "*\"Table 2. Party's Alignment (%) with Bolsonaro Government\"*."
   ]
  },
  {
   "cell_type": "code",
   "execution_count": 5,
   "metadata": {},
   "outputs": [],
   "source": [
    "data = {\n",
    "    \"party\": [\n",
    "        \"PSL\", \"PATRIOTA\", \"DEM\", \"PSC\", \"NOVO\", \"PSDB\", \"MDB\", \"PP\",\n",
    "        \"REPUBLICANOS\", \"PL\", \"PSD\", \"PTB\", \"SOLIDARIEDADE\", \"CIDADANIA\",\n",
    "        \"PODEMOS\", \"PROS\", \"AVANTE\", \"PV\", \"PDT\", \"PSB\", \"REDE\",\n",
    "        \"PCDOB\", \"PT\", \"PSOL\"\n",
    "    ],\n",
    "    \"alignment_with_bolsonaro_government_perc\": [\n",
    "        97, 94, 93, 93, 92, 92, 91, 91, 91, 90, 90, 90, 89, 87,\n",
    "        77, 75, 74, 68, 48, 46, 36, 29, 20, 15\n",
    "    ],\n",
    "    \"government_or_opposition_position\": [\n",
    "        \"Governo\", \"Governo\", \"Governo\", \"Governo\",\n",
    "        \"Governo\", \"Governo\", \"Governo\", \"Governo\",\n",
    "        \"Governo\", \"Governo\", \"Governo\", \"Governo\",\n",
    "        \"Governo\", \"Governo\", \"Neutro\", \"Neutro\",\n",
    "        \"Neutro\", \"Neutro\", \"Oposição\", \"Oposição\", \"Oposição\",\n",
    "        \"Oposição\", \"Oposição\", \"Oposição\"\n",
    "    ],\n",
    "}\n",
    "\n",
    "df_party_alignment = pd.DataFrame(data)"
   ]
  },
  {
   "cell_type": "code",
   "execution_count": 6,
   "metadata": {},
   "outputs": [],
   "source": [
    "df_tweets = df_tweets.merge(df_party_alignment, how='left', on='party')\n",
    "df_tweets['government_or_opposition_position'] = df_tweets['government_or_opposition_position'].fillna('Desconhecido')"
   ]
  },
  {
   "cell_type": "markdown",
   "metadata": {},
   "source": [
    "Agora, é possível analisar quantos *tweets* existem por grupo político."
   ]
  },
  {
   "cell_type": "code",
   "execution_count": 7,
   "metadata": {},
   "outputs": [
    {
     "data": {
      "text/plain": [
       "<AxesSubplot:xlabel='government_or_opposition_position'>"
      ]
     },
     "execution_count": 7,
     "metadata": {},
     "output_type": "execute_result"
    },
    {
     "data": {
      "image/png": "[encoded data removed]",
      "text/plain": [
       "<Figure size 432x288 with 1 Axes>"
      ]
     },
     "metadata": {
      "needs_background": "light"
     },
     "output_type": "display_data"
    }
   ],
   "source": [
    "df_tweets.groupby('government_or_opposition_position')['id'].count().plot.bar()"
   ]
  },
  {
   "cell_type": "markdown",
   "metadata": {},
   "source": [
    "Também, pode-se observar que existem postagens que estão em outros idiomas além do português."
   ]
  },
  {
   "cell_type": "code",
   "execution_count": 8,
   "metadata": {},
   "outputs": [
    {
     "data": {
      "text/plain": [
       "lang\n",
       "pt     152577\n",
       "en       7691\n",
       "zxx      3784\n",
       "und      3566\n",
       "es       2781\n",
       "qme      1943\n",
       "it        805\n",
       "fr        777\n",
       "qht       634\n",
       "art       573\n",
       "ru        282\n",
       "tl        273\n",
       "de        247\n",
       "qam       227\n",
       "in        192\n",
       "ja        181\n",
       "tr        114\n",
       "ro        103\n",
       "ca         98\n",
       "el         93\n",
       "qst        89\n",
       "nl         79\n",
       "et         61\n",
       "cs         52\n",
       "eu         51\n",
       "pl         49\n",
       "da         49\n",
       "fi         46\n",
       "ht         46\n",
       "lt         38\n",
       "cy         38\n",
       "no         26\n",
       "vi         24\n",
       "sv         22\n",
       "ar         22\n",
       "zh         21\n",
       "hu         19\n",
       "hi         18\n",
       "uk         18\n",
       "is         15\n",
       "bg         15\n",
       "sl         12\n",
       "lv          9\n",
       "iw          5\n",
       "pa          3\n",
       "kn          3\n",
       "fa          2\n",
       "ko          2\n",
       "sr          1\n",
       "te          1\n",
       "Name: id, dtype: int64"
      ]
     },
     "execution_count": 8,
     "metadata": {},
     "output_type": "execute_result"
    }
   ],
   "source": [
    "df_tweets.groupby('lang')['id'].count().sort_values(ascending=False)"
   ]
  },
  {
   "cell_type": "markdown",
   "metadata": {},
   "source": [
    "Para este exemplo, selecionaremos apenas as postagens em português."
   ]
  },
  {
   "cell_type": "code",
   "execution_count": 9,
   "metadata": {},
   "outputs": [],
   "source": [
    "df_tweets = df_tweets[df_tweets['lang'] == 'pt']"
   ]
  },
  {
   "cell_type": "markdown",
   "metadata": {},
   "source": [
    "Agora, para esta análise, vamos filtrar apenas as postagens relacionadas à pandemia de Covid-19 de acordo com os critérios estabelecidos no *codebook*, na Tabela 7:\n",
    "\n",
    "*\"Table 7. According to the topics, COVID-19 Vaccine and Vaccination Keywords used to collect Tweets from candidates in state capitals in 2020 and 2021\"*.\n",
    "\n",
    "No arquivo `covid_terms.csv` importado a seguir, constam todas as palavras-chave utilizadas para fazer esta seleção."
   ]
  },
  {
   "cell_type": "code",
   "execution_count": 10,
   "metadata": {},
   "outputs": [],
   "source": [
    "df_covid_terms = pd.read_csv('../dados/covid_terms.csv')\n",
    "filter_terms = df_covid_terms['Keywords'].str.cat(sep='; ').split(';')\n",
    "filter_terms = [s.strip() for s in filter_terms]\n",
    "filter_terms = list(filter(None, filter_terms))"
   ]
  },
  {
   "cell_type": "markdown",
   "metadata": {},
   "source": [
    "Pode-se visualizar os termos que serão utilizados como filtro."
   ]
  },
  {
   "cell_type": "code",
   "execution_count": 11,
   "metadata": {},
   "outputs": [
    {
     "data": {
      "text/plain": [
       "['[Vv]acin',\n",
       " '[Vv]assina',\n",
       " '[Vv]acinacao',\n",
       " '[Vv]asina',\n",
       " '[li]munização',\n",
       " '[li]munisação',\n",
       " 'Vaccine Symbol (0)',\n",
       " '[Oo]brigatoriedade',\n",
       " '[Oo]brigar',\n",
       " '[Cc]orona[Vv]ac',\n",
       " '[Cc]ova[Xx]in',\n",
       " '[Cc]omuna[Vv]ac',\n",
       " '[Ss]inovac',\n",
       " '[Aa]stra[Zz]eneca',\n",
       " '[Aa]stra[Zz]enica',\n",
       " '[Oo]xford',\n",
       " '[Oo]xfort',\n",
       " '[Oo]xfor',\n",
       " '[Vv]axzvria',\n",
       " '[Pp]fizer',\n",
       " '[Pp]eizer',\n",
       " '[Pp]pfaizer',\n",
       " '[Ff]aizer',\n",
       " '[Ff]eizer',\n",
       " '[Bb]arat',\n",
       " '[Bb]iontech',\n",
       " '[Bb]iontec',\n",
       " '[Cc]omyrnaty',\n",
       " '[Cc]omimaty',\n",
       " '[Bb]iontech [Mm]anufacturing [Gg]mbh',\n",
       " '[Vv]acina da [Mm]oderna',\n",
       " '[Vv]acina [Mm]oderna',\n",
       " '[Ss]pikevax',\n",
       " '[Mm]oderna',\n",
       " '[Bb]iontech',\n",
       " 'mRNA-1273',\n",
       " 'CX-024414',\n",
       " '[Ss]putnik',\n",
       " '[Ss]putinik',\n",
       " '[Ss]putink',\n",
       " '[Ss]putinic',\n",
       " '[Ss]putinikV',\n",
       " '[Gg]amaleya',\n",
       " '[Gg]amaleia',\n",
       " '[Jj]ansen',\n",
       " '[Jj]anssen',\n",
       " '[Jj]&[Jj]',\n",
       " '[Jj]ohnson & [Jj]ohnson',\n",
       " '[Jj]honson & [Jj]honson',\n",
       " '[Jj]onson',\n",
       " '[Jj] & [Jj]',\n",
       " '[Jj]ohnson',\n",
       " '[Jj]ohnsons',\n",
       " '[Jj]honson',\n",
       " '[Jj]ancen',\n",
       " '[Aa]d26.COV2S',\n",
       " '[Cc]ovaxin',\n",
       " '[Cc]ovachin',\n",
       " '[Bb]harat [Bb]iotech [Nn]ovavax',\n",
       " '[Cc]ovavax',\n",
       " '[Nn]uvaxovid',\n",
       " 'NVX-CoV2373',\n",
       " 'TAK-019',\n",
       " 'SARS- CoV-2 rS with Matrix-M1 adjuvant',\n",
       " '[Ss]erum [li]nstitute of [li]ndia',\n",
       " '[Nn]ovavax',\n",
       " '[Ff]ormulation',\n",
       " '[Ss]inopharm',\n",
       " 'BIBP',\n",
       " '[Ss]inofarm',\n",
       " '[Bb]utantan',\n",
       " '[Bb]utanta',\n",
       " '[Ff]iocruz',\n",
       " '@fiocruz',\n",
       " '[Ff]iocrus',\n",
       " '[Vv]achina',\n",
       " '[Vv]achinada',\n",
       " '[Vv]achin@da',\n",
       " '[Vv]axina',\n",
       " '[Vv]acina da [Cc]hina',\n",
       " '[Vv]acina [Cc]hinesa',\n",
       " '[Vv]acina [Bb]ritânica',\n",
       " '[Vv]acina [Cc]ubana',\n",
       " '[Vv]acina [Rr]ussa',\n",
       " '[Vv]acina da [Rr]ussia',\n",
       " '[Ii]doso[s]?',\n",
       " '[Aa]dulto[s]?',\n",
       " '[Aa]dolescente[s]?',\n",
       " '[Jj]oven[s]?',\n",
       " '[Cc]riança[s]?',\n",
       " '[Mm]enin[oa][s]?',\n",
       " '[Rr]ecem-[Nn]ascido[s]?',\n",
       " '[Gg]uri[s]?',\n",
       " '[Aa]vôs',\n",
       " '[Aa]vós',\n",
       " '[Mm]oleque[s]?',\n",
       " '[Vv]ovô',\n",
       " '[Vv]ovó',\n",
       " '[Nn]eto[s]?',\n",
       " '[Ff]ilh[oa][s]?',\n",
       " '[Bb]ebê[s]?',\n",
       " '[Gg]rávida[s]?',\n",
       " '[Pp]ai',\n",
       " '[Mm]ãe',\n",
       " '[Óó]rfão[s]?',\n",
       " '[Gg]arot[oa][s]?',\n",
       " '[Ee]efeito [Cc]olateral',\n",
       " '[Ee]feito [Aa]dverso',\n",
       " '[Cc]hoque [Aa]nafilático',\n",
       " '[Aa]nafilaxia',\n",
       " '[Ss]índrome de [Gg]uillain-[Bb]arré',\n",
       " 'SGB',\n",
       " '[Mm]iocardite',\n",
       " '[Pp]eriocardite',\n",
       " '[Tt]rombose',\n",
       " '[Tt]rombocitopenia',\n",
       " '[Tt]erapia [Gg]ênica',\n",
       " '[Tt]erapia [Gg]enética',\n",
       " '[Aa]taque de [Cc]oração',\n",
       " '[Aa]utismo',\n",
       " '[Pp]aralisia',\n",
       " '[Cc]onvulsões',\n",
       " '[Dd]errame',\n",
       " 'AVC',\n",
       " '[Ss]índrome Inflamatória Multissistêmica',\n",
       " '[Ss]índrome de Kawasaki',\n",
       " '[Dd]or no [Cc]oração',\n",
       " '[Dd]or no [Pp]eito',\n",
       " '[Óó]bito',\n",
       " '[Aa]menoreia',\n",
       " '[Rr]eação [Aa]lérgica',\n",
       " '[Pp]arada [Cc]ardíaca',\n",
       " '[Ll]esões',\n",
       " '[Gg]raves',\n",
       " '[Cc]omorbidades',\n",
       " '[Cc]âncer',\n",
       " '[Mm]ortalidade',\n",
       " '[Mm]orte [Ss]úbita',\n",
       " '[Mm]al [Ss]úbito',\n",
       " '[Aa]borto',\n",
       " '[Cc]oagulação',\n",
       " '[Ii]nfarto',\n",
       " '[Rr]eação [Aa]dversa',\n",
       " '[Dd]oença [Aa]utoimune',\n",
       " '[Cc]olateral',\n",
       " '[Dd]oriavac',\n",
       " '[Cc]obaia',\n",
       " '[Jj]acar[eé]',\n",
       " '[Dd]itadória',\n",
       " '[Dd]itadoria',\n",
       " '[Vv]a-china',\n",
       " '[Vv]achinação',\n",
       " '[Vv]a-chinacao']"
      ]
     },
     "execution_count": 11,
     "metadata": {},
     "output_type": "execute_result"
    }
   ],
   "source": [
    "filter_terms"
   ]
  },
  {
   "cell_type": "markdown",
   "metadata": {},
   "source": [
    "Agora, o *dataset* será efetivamente filtrado."
   ]
  },
  {
   "cell_type": "code",
   "execution_count": 12,
   "metadata": {},
   "outputs": [
    {
     "name": "stderr",
     "output_type": "stream",
     "text": [
      "C:\\Users\\andre\\AppData\\Local\\Temp\\ipykernel_11180\\1253575287.py:1: UserWarning: This pattern is interpreted as a regular expression, and has match groups. To actually get the groups, use str.extract.\n",
      "  df_tweets = df_tweets[df_tweets.text.str.contains('|'.join(filter_terms), regex=True, na=False, flags=re.IGNORECASE)]\n"
     ]
    }
   ],
   "source": [
    "df_tweets = df_tweets[df_tweets.text.str.contains('|'.join(filter_terms), regex=True, na=False, flags=re.IGNORECASE)]"
   ]
  },
  {
   "cell_type": "markdown",
   "metadata": {},
   "source": [
    "E pode-se oberservar quantas postagens sobraram após a seleção."
   ]
  },
  {
   "cell_type": "code",
   "execution_count": 13,
   "metadata": {},
   "outputs": [
    {
     "data": {
      "text/plain": [
       "28506"
      ]
     },
     "execution_count": 13,
     "metadata": {},
     "output_type": "execute_result"
    }
   ],
   "source": [
    "len(df_tweets)"
   ]
  },
  {
   "cell_type": "markdown",
   "metadata": {},
   "source": [
    "Agora, é necessário realizar um pré-processamento no contéudo das postagens:\n",
    "- Remover acentos;\n",
    "- Transformar letras maiúsculas em minúsculas;\n",
    "- Removre caracteres especiais;\n",
    "- Remover stopwords;\n",
    "- Lematização;\n",
    "- etc."
   ]
  },
  {
   "cell_type": "code",
   "execution_count": 14,
   "metadata": {},
   "outputs": [],
   "source": [
    "# lista de stopwords em português\n",
    "stopwords_list = stopwords.words('portuguese')\n",
    "stopwords_list = [unidecode(w) for w in stopwords_list]\n",
    "\n",
    "# stemmer\n",
    "stemmer = RSLPStemmer()\n",
    "\n",
    "# modelo do spacy utilizado para lematização\n",
    "nlp = spacy.load('pt_core_news_sm')\n",
    "\n",
    "def preprocess(text: str) -> str:\n",
    "    \"\"\"\n",
    "    Função de pré-processamento de textos.\n",
    "    \"\"\"\n",
    "    text = re.sub(r'https://t.co/(\\w)*', ' ', text)                     # remove links\n",
    "    text = re.sub(r'@\\w+', ' ', text)                                   # remove os arrobas\n",
    "    text = re.sub(r'#\\w+', ' ', text)                                   # remove as hashtags\n",
    "    text = text.lower()                                                 # minimiza o texto\n",
    "    text = re.sub(r'\\d+\\/\\d+\\s', ' ', text)                             # remove contagem de posts\n",
    "\n",
    "    doc = nlp(text)\n",
    "    tokens = [token.lemma_ for token in doc]                            # lematização\n",
    "    text = ' '.join(tokens)\n",
    "\n",
    "    text = unidecode(text)                                              # remove acentos \n",
    "    text = re.sub(r'[^a-zA-Z0-9\\s]', ' ', text)                         # remove caracteres especiais\n",
    "    text = re.sub(r'\\s+', ' ', text)                                    # remove as quebras de linhas desnecessarias\n",
    "    \n",
    "    tokens = [word for word in text.split() if word not in stopwords_list]   # remove as stopwords\n",
    "    \n",
    "    return ' '.join(tokens)"
   ]
  },
  {
   "cell_type": "markdown",
   "metadata": {},
   "source": [
    "Aplica o pré processamento para cada tweet."
   ]
  },
  {
   "cell_type": "code",
   "execution_count": 15,
   "metadata": {},
   "outputs": [
    {
     "data": {
      "application/vnd.jupyter.widget-view+json": {
       "model_id": "6cc49fbb982744c48c591b2ec8dca7de",
       "version_major": 2,
       "version_minor": 0
      },
      "text/plain": [
       "  0%|          | 0/28506 [00:00<?, ?it/s]"
      ]
     },
     "metadata": {},
     "output_type": "display_data"
    }
   ],
   "source": [
    "df_tweets['text_processed'] = df_tweets.text.progress_apply(preprocess)"
   ]
  },
  {
   "cell_type": "markdown",
   "metadata": {},
   "source": [
    "Cria features adicinais baseadas na texto."
   ]
  },
  {
   "cell_type": "code",
   "execution_count": 16,
   "metadata": {},
   "outputs": [],
   "source": [
    "df_tweets['content_len'] = df_tweets['text_processed'].astype(str).apply(len)\n",
    "df_tweets['word_count'] = df_tweets['text_processed'].apply(lambda x: len(str(x).split()))"
   ]
  },
  {
   "cell_type": "markdown",
   "metadata": {},
   "source": [
    "Cria features adicionais baseadas na data do *post*."
   ]
  },
  {
   "cell_type": "code",
   "execution_count": 17,
   "metadata": {},
   "outputs": [],
   "source": [
    "df_tweets['created_at'] = pd.to_datetime(df_tweets['created_at'])\n",
    "df_tweets['year'] = df_tweets['created_at'].dt.year\n",
    "df_tweets['month'] = df_tweets['created_at'].dt.month\n",
    "df_tweets['day'] = df_tweets['created_at'].dt.day"
   ]
  },
  {
   "cell_type": "markdown",
   "metadata": {},
   "source": [
    "Analisando as postagens através das features `content_len` e `word_count`, podemos notar que existem muitos *tweets* com pouco contéudo."
   ]
  },
  {
   "cell_type": "code",
   "execution_count": 18,
   "metadata": {},
   "outputs": [
    {
     "data": {
      "text/plain": [
       "<AxesSubplot:title={'center':'Tweets X Número de Caracteres'}, xlabel='Tamanho do texto', ylabel='Frequência'>"
      ]
     },
     "execution_count": 18,
     "metadata": {},
     "output_type": "execute_result"
    },
    {
     "data": {
      "image/png": "[encoded data removed]",
      "text/plain": [
       "<Figure size 1440x360 with 1 Axes>"
      ]
     },
     "metadata": {
      "needs_background": "light"
     },
     "output_type": "display_data"
    }
   ],
   "source": [
    "df_tweets.content_len.plot.hist(bins=30, grid=True, figsize=(20, 5), title='Tweets X Número de Caracteres', xlabel='Tamanho do texto', ylabel='Frequência')"
   ]
  },
  {
   "cell_type": "code",
   "execution_count": 19,
   "metadata": {},
   "outputs": [
    {
     "data": {
      "text/plain": [
       "<AxesSubplot:title={'center':'Tweets X Número De Palavras'}, xlabel='Número de palavras', ylabel='Frequência'>"
      ]
     },
     "execution_count": 19,
     "metadata": {},
     "output_type": "execute_result"
    },
    {
     "data": {
      "image/png": "[encoded data removed]",
      "text/plain": [
       "<Figure size 1440x360 with 1 Axes>"
      ]
     },
     "metadata": {
      "needs_background": "light"
     },
     "output_type": "display_data"
    }
   ],
   "source": [
    "df_tweets.word_count.plot.hist(bins=20,grid=True, figsize=(20, 5), title='Tweets X Número De Palavras', xlabel='Número de palavras', ylabel='Frequência')"
   ]
  },
  {
   "cell_type": "markdown",
   "metadata": {},
   "source": [
    "Para melhorar a aplicação do nosso modelo de LDA, vamos selecionar apenas as postagens com, no mínimo, 10 palavras."
   ]
  },
  {
   "cell_type": "code",
   "execution_count": 20,
   "metadata": {},
   "outputs": [],
   "source": [
    "df_tweets = df_tweets[df_tweets.word_count >= 10]"
   ]
  },
  {
   "cell_type": "code",
   "execution_count": 21,
   "metadata": {},
   "outputs": [
    {
     "data": {
      "text/plain": [
       "25265"
      ]
     },
     "execution_count": 21,
     "metadata": {},
     "output_type": "execute_result"
    }
   ],
   "source": [
    "len(df_tweets)"
   ]
  },
  {
   "cell_type": "markdown",
   "metadata": {},
   "source": [
    "Salvando o dataset pré-processado que será utilizado como base para a próxima etapa."
   ]
  },
  {
   "cell_type": "code",
   "execution_count": 22,
   "metadata": {},
   "outputs": [],
   "source": [
    "df_tweets.to_csv('../dados/tweets_prefeitos_2020_preprocessado.csv.gzip', compression='gzip', index=False)"
   ]
  }
 ],
 "metadata": {
  "kernelspec": {
   "display_name": "Python 3",
   "language": "python",
   "name": "python3"
  },
  "language_info": {
   "codemirror_mode": {
    "name": "ipython",
    "version": 3
   },
   "file_extension": ".py",
   "mimetype": "text/x-python",
   "name": "python",
   "nbconvert_exporter": "python",
   "pygments_lexer": "ipython3",
   "version": "3.10.4"
  },
  "orig_nbformat": 4
 },
 "nbformat": 4,
 "nbformat_minor": 2
}
