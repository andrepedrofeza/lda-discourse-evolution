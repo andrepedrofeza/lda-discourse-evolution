{
 "cells": [
  {
   "cell_type": "markdown",
   "metadata": {},
   "source": [
    "# Exemplo de uso\n",
    "\n",
    "## Parte 2: Aplicação do modelo de LDA.\n",
    "\n",
    "Vamos seguir a partir pré-processamento realizado na etapa anterior.\n",
    "\n",
    "Caso queira economizar tempo e não rodar os blocos de código da etapa 1, dado que ela pode demorar bastante tempo dependendo da máquina, pode-se importar o arquivo já processado disponibilizado `tweets_prefeitos_2020_preprocessado.csv.gzip` e seguir a partir daqui."
   ]
  },
  {
   "cell_type": "markdown",
   "metadata": {},
   "source": [
    "Importando as bilbiotecas que serão utilizadas."
   ]
  },
  {
   "cell_type": "code",
   "execution_count": 9,
   "metadata": {},
   "outputs": [],
   "source": [
    "import pandas as pd\n",
    "import re\n",
    "import gensim\n",
    "import gensim.corpora as corpora\n",
    "import pyLDAvis.gensim\n",
    "import pyLDAvis\n",
    "from pprint import pprint"
   ]
  },
  {
   "cell_type": "markdown",
   "metadata": {},
   "source": [
    "Carregando o arquivo."
   ]
  },
  {
   "cell_type": "code",
   "execution_count": 2,
   "metadata": {},
   "outputs": [],
   "source": [
    "df_tweets = pd.read_csv('../dados/tweets_prefeitos_2020_preprocessado.csv.gzip', compression='gzip')"
   ]
  },
  {
   "cell_type": "markdown",
   "metadata": {},
   "source": [
    "Criando a matriz de frequência de termos que será utilizada para treinar o modelo de LDA."
   ]
  },
  {
   "cell_type": "code",
   "execution_count": 3,
   "metadata": {},
   "outputs": [],
   "source": [
    "def sent_to_words(sentences):\n",
    "    for sentence in sentences:\n",
    "        yield(gensim.utils.simple_preprocess(str(sentence), deacc=True)) # deacc=True removes punctuations\n",
    "\n",
    "data = df_tweets['text_processed'].values.tolist()\n",
    "data_words = list(sent_to_words(data))\n",
    "\n",
    "id2word = corpora.Dictionary(data_words)            # Create Dictionary\n",
    "texts = data_words                                  # Create Corpus\n",
    "corpus = [id2word.doc2bow(text) for text in texts]  # Term Document Frequency"
   ]
  },
  {
   "cell_type": "markdown",
   "metadata": {},
   "source": [
    "Rodando o modelo de LDA para um total de 5 tópicos."
   ]
  },
  {
   "cell_type": "code",
   "execution_count": 4,
   "metadata": {},
   "outputs": [
    {
     "name": "stdout",
     "output_type": "stream",
     "text": [
      "[(0,\n",
      "  '0.042*\"dose\" + 0.033*\"ser\" + 0.032*\"vacinacao\" + 0.025*\"vacinar\" + '\n",
      "  '0.019*\"ano\" + 0.018*\"vacina\" + 0.016*\"estar\" + 0.015*\"pessoa\" + 0.013*\"dia\" '\n",
      "  '+ 0.013*\"covid\"'),\n",
      " (1,\n",
      "  '0.024*\"ser\" + 0.017*\"vacina\" + 0.015*\"vacinacao\" + 0.012*\"todo\" + '\n",
      "  '0.012*\"covid\" + 0.010*\"contra\" + 0.009*\"saude\" + 0.009*\"pandemia\" + '\n",
      "  '0.008*\"estar\" + 0.006*\"ter\"'),\n",
      " (2,\n",
      "  '0.045*\"ser\" + 0.020*\"crianca\" + 0.011*\"mulher\" + 0.009*\"projeto\" + '\n",
      "  '0.008*\"direito\" + 0.008*\"publico\" + 0.007*\"lei\" + 0.007*\"ano\" + '\n",
      "  '0.007*\"contra\" + 0.006*\"sobre\"'),\n",
      " (3,\n",
      "  '0.057*\"ser\" + 0.023*\"vacina\" + 0.022*\"bolsonaro\" + 0.019*\"ter\" + '\n",
      "  '0.012*\"governo\" + 0.010*\"estar\" + 0.010*\"brasil\" + 0.008*\"fazer\" + '\n",
      "  '0.008*\"poder\" + 0.007*\"morte\"'),\n",
      " (4,\n",
      "  '0.020*\"ser\" + 0.013*\"dia\" + 0.012*\"todo\" + 0.011*\"mae\" + 0.010*\"pai\" + '\n",
      "  '0.010*\"hoje\" + 0.009*\"filho\" + 0.009*\"amigo\" + 0.008*\"ano\" + '\n",
      "  '0.007*\"familia\"')]\n"
     ]
    }
   ],
   "source": [
    "num_topics = 5\n",
    "passes = 10\n",
    "\n",
    "lda_model = gensim.models.LdaModel(corpus=corpus,\n",
    "                                   id2word=id2word,\n",
    "                                   num_topics=num_topics,\n",
    "                                   passes=passes,\n",
    "                                   random_state=1000)\n",
    "doc_lda = lda_model[corpus]\n",
    "\n",
    "pprint(lda_model.print_topics())"
   ]
  },
  {
   "cell_type": "markdown",
   "metadata": {},
   "source": [
    "Calculando a distribuição de tópicos por documento."
   ]
  },
  {
   "cell_type": "code",
   "execution_count": 5,
   "metadata": {},
   "outputs": [],
   "source": [
    "topic_dist = [lda_model.get_document_topics(item, minimum_probability=0.0) for item in corpus]\n",
    "df_tweets.reset_index(drop=True, inplace=True)\n",
    "\n",
    "for n in range(0, num_topics):\n",
    "    for l in range(0, len(topic_dist)):\n",
    "        df_tweets.at[l, f'topic_{n}_prob'] = topic_dist[l][n][1]"
   ]
  },
  {
   "cell_type": "markdown",
   "metadata": {},
   "source": [
    "Exibindo os 20 *tweets* mais prováveis de cada um dos tópicos."
   ]
  },
  {
   "cell_type": "code",
   "execution_count": 6,
   "metadata": {},
   "outputs": [
    {
     "name": "stdout",
     "output_type": "stream",
     "text": [
      "==========================================================================================================\n",
      "Tópico 1:\n",
      "==========================================================================================================\n",
      "O mutirão de vacinação contra covid-19 continua neste domingo. Veja quem pode se vacinar \\n🔺1° dose: pessoas com 12 anos ou +\\n🔺1° ou 2° dose: pessoas com 18 anos ou +\\n🔺3° dose: profissionais da saúde com 2° dose até julho\\n🔺3° dose: idosos com 70 anos ou + com 2° dose até julho\n",
      "\n",
      "Para ser atendido na UBS, é necessário apenas apresentar o cartão do SUS. Caso o idoso não possua o cartão, basta levar originais e cópias de um documento de identificação com foto, CPF e comprovante de residência. O cadastro é feito na hora e a vacinação poderá ser realizada.\n",
      "\n",
      "@sheric_ @prefeiturabelem ASesma informa que nesta terça-feira, 6, não haverá imunização contra a covid-19 em Belém. O município aguarda a chegada de novas doses. Caso novos imunizantes cheguem até esta terça-terça, nova etapa de vacinação será anunciada pela Sesma para ser retomada na quarta-feira, 7.\n",
      "\n",
      "Domingo também é dia de vacina! \\n\\nOs 6 pontos fixos estarão funcionado normalmente hoje de 9h às 16h. Além dos drive-thrus que estão 24 h desde ontem. \\n\\nSe você tem 60+, é trabalhador da saúde com 40+ ou vai tomar a segunda dose já pode ir. Maceió segue avançando! 🙌\n",
      "\n",
      "Corre pra atualizar o cartão, tem Maratona da Vacina 🏃‍♂️\\n\\nO drive de Jaraguá vai funcionar 24h sem parar. A ação começa amanhã e segue até às 9h da quarta (1º). Os demais pontos ficam com o horário normal.\\n\\nJá imunizamos 80% dos adultos com as duas doses. A meta é 100%. Bora? 💉\n",
      "\n",
      "Hoje fui me vacinar com a segunda dose contra a Covid-19. É preciso que mais de 70% da população esteja imunizada. Muitas pessoas ainda não foram tomar a segunda dose, são apenas 20% da população 100% imunizada, a vacinação ainda está lenta. Tome a vacina! Ela é segura! #VivaOSUS https://t.co/sSKMwVRk6r\n",
      "\n",
      "Alô, turma de 30 e 29 anos! Boa notícia pra vocês! Preparem o braço, porque a hora da vacina está chegando. 💪 A partir desta segunda, todos os natalenses com 30+ já vão poder se vacinar contra a Covid. Na terça, reduziremos pra 29+. Vamos seguir acelerando e salvando vidas!\n",
      "\n",
      "As segundas doses da vacinação contra covid para trabalhadores da saúde já estão sendo aplicadas. Elas estão asseguradas desde a primeira distribuição de vacinas e é importante lembrar que quem for receber a segunda dose deve ir ao local seguindo a data do cartão de vacinação.\n",
      "\n",
      "Manaus avançará novamente na vacinação contra à COVID-19. A partir de quinta-feira pessoas de 38 e 39 anos poderão se vacinar. 💉\\n\\nNa quinta-feira pessoas de 39 anos nascidas entre Janeiro e Junho poderão procurar os postos de vacinação para receber a primeira dose da vacina.\n",
      "\n",
      "Amanhã, a vacinação da 2ª dose da CoronaVac continua para quem recebeu a 1ª dose dia 3/04!\\n⠀\\nPara receber a vacina, é obrigatório apresentar cartão de vacinação e documento com foto.\\n⠀\\nAssim que novas doses forem chegando, a gente amplia a vacinação e divulga um novo calendário https://t.co/H8MEJlDOr0\n",
      "\n",
      "@Cida86847392 Bom dia, Cida! Tudo bem? Não temos um calendário definido para esse grupo, pois ainda estamos avançando para concluir a terceira etapa da vacina em nossa cidade. Conforme os repasses do Ministério da Saúde são realizados, divulgaremos todas as atualizações do calendário. Abraço!\n",
      "\n",
      "ponto para vacinar a qualquer momento, a depender da vacina que está sendo usada no dia.\\n\\n2: Idosos com 70 anos ou mais, que ainda não vacinaram com a 3° dose, poderão comparecer a qualquer ponto para vacinar a qualquer momento, a depender da vacina que está sendo usada no dia.\n",
      "\n",
      "Começando a semana com boa notícia! A vacinação contra a COVID-19 é ampliada mais uma vez em Natal. Hoje reduzimos a faixa etária das comorbidades para 30 anos. No fim de semana, imunizamos quase 10 mil natalenses e seguiremos avançando cada vez mais para salvar vidas!\n",
      "\n",
      "Novo recorde de vacinação: 6.653 maceioenses em apenas um dia! É uma grande alegria ver que todo nosso sistema tem funcionado com eficiência, tanto que 99% dos idosos acamados já receberam o imunizante. Vamos seguir avançando, vacina é vida e esperança em dias melhores!\n",
      "\n",
      "A partir de hoje, avançamos na vacinação por idade da população 💉✨\\n\\nConfira o calendário abaixo👇\\n\\n7/6: 57 anos (jan a jun)\\n8/6: 57 anos (jul a dez)\\n9/6: 56 anos (jan a jun)\\n10/6: 56 anos (jul a dez)\\n11/6: 55 anos\\n12/6: 54 anos (jan a jun)\\n13/6: 54 anos (jul a dez) https://t.co/9NOaZ822In\n",
      "\n",
      "ATENÇÃO! Nesta sexta-feira será aplicada a primeira dose para IDOSOS A PARTIR DE 61 ANOS da vacina contra Covid. Serão vacinados os profissionais de saúde a partir de 18 anos com a 1 dose e para quem tomou a AstraZeneca 2 dose. Confira os locais de vacinação na capital. Vacine-se https://t.co/oOYdj55vJO\n",
      "\n",
      "Confira os locais da vacinação dos novinhos 1️⃣2️⃣ anos: \\n\\n📍Centro de Vacinação Sebrae; \\n📍Centro da UFMA; \\n📍Drive da UFMA\\n📍Centro da UEMA; \\n📍Drive da UEMA;\\n📍Drive Shopping da Ilha; \\n📍IFMA Maracanã; \\n📍Drive Ceuma Renascença. \\n\\nJá vai preparando o braço! 💪🏽\n",
      "\n",
      "Confira os locais da vacinação para os novinhos de 1️⃣5️⃣, 1️⃣6️⃣ e 1️⃣7️⃣ anos: \\n\\n📍Centro de Vacinação Sebrae; \\n📍Centro da UFMA; \\n📍Drive da UFMA\\n📍Centro da UEMA; \\n📍Drive da UEMA;\\n📍Drive Shopping da Ilha; \\n📍IFMA Maracanã; \\n📍Drive Ceuma Renascença. \\n\\nJá pode preparar o braço! 💪🏽\n",
      "\n",
      "A semana começa com notícia boa: Antecipamos para HOJE a vacinação das pessoas com comorbidades a partir de 57 anos! Amanhã, terça-feira (04/05), é a vez das pessoas com comorbidades de 56 anos. Nos próximos dias, também vamos ampliar para outras idades. Maceió segue avançando!🙏\n",
      "\n",
      "A boa notícia é que novas doses chegaram e a gente deve receber esses imunizantes na sexta-feira.🤩 E assim, divulgaremos um novo cronograma de vacinação.\\n\\nCombinado?🙏😉\\n\\nA 2ª dose de vacina contra covid-19 está mantida, assim como a imunização de gestantes e de puérperas.\n",
      "\n",
      "==========================================================================================================\n",
      "Tópico 2:\n",
      "==========================================================================================================\n",
      "A saída de @ernestofaraujo  fez bem ao BR:\\nA OMS pediu mudança na posição sobre a quebra de patentes p/vacinas dte a pandemia e ofereceu apoio técnico p/ ampliar a produção \\n\\nEmbaixador da China abriu conversa dta c/ministro da Saúde e prometeu cumprir a entrega dos insumos.\n",
      "\n",
      "Publicamos hoje o decreto autorizando a contratação de até 554 profissionais de saúde. São médicos, enfermeiros, técnicos de enfermagem e outros trabalhadores da linha de frente, que vão atuar na Rede Municipal de Saúde, somando-se aos já contratados do programa Recife Vacina. https://t.co/RdEZnCJO0w\n",
      "\n",
      "O Instituto Butantan está liderando a vacinação contra o COVID-19 no Brasil, fazendo o que o Governo Federal deveria ter feito. Parabéns pela retomada, o povo brasileiro agradece a todos que trabalham em prol da da ciência e da saúde pública no Instituto. https://t.co/kJPVTsj8Jo\n",
      "\n",
      "Participando agora da reunião do Comitê Estadual de Enfrentamento à Covid-19. Liderado pelo governador Camilo Santana, o encontro atualiza informações sobre a vacinação da Capital e de todo o Estado, a situação epidemiológica da pandemia e também sobre a capacidade assistencial. https://t.co/gaTnn58hdb\n",
      "\n",
      "O apoio à ciência garante o desenvolvimento de um País. É através da ciência que descobertas como a vacina acontecem. Novos remédios são criados, estudos e pesquisas são desenvolvidas, e vidas são transformadas graças aos investimentos na ciência.\n",
      "\n",
      "Obrigado, Presidente. A atenção do Governo chinês no sentido de autorizar a exportação de insumos para as vacinas, sem qualquer condição extra-contratual, mostra o quanto é construtiva a nossa relação com a China. Agradeço em especial ao Chanceler Wang Yi. https://t.co/kC0P3melal\n",
      "\n",
      "A convite do lado🇧🇷, o Emb.@WanmingYang falou hoje por📞com o PR @camaradeputados, @RodrigoMaia. O tema foi a cooperação🇨🇳🇧🇷, incluindo vacinas contra COVID19. A🇨🇳 atribui grande importância à parceria🇨🇳🇧🇷 e vai continuar a promover nossa cooperação e combate conjunto à pandemia.\n",
      "\n",
      "A convite do lado🇧🇷, o Emb.@WanmingYang falou hoje por📞com o PR @camaradeputados, @RodrigoMaia. O tema foi a cooperação🇨🇳🇧🇷, incluindo vacinas contra COVID19. A🇨🇳 atribui grande importância à parceria🇨🇳🇧🇷 e vai continuar a promover nossa cooperação e combate conjunto à pandemia.\n",
      "\n",
      "O Congresso Nacional aprovou o PLN 16/21, que abre crédito suplementar para pesquisa. O texto aumenta de R$ 26 para R$ 63 milhões os recursos para produção de radiofármacos, fundamentais no tratamentos contra o câncer. Uma importante vitória para todos os pacientes em tratamento!\n",
      "\n",
      "Também discutimos o início da vacinação no Estado e as novas medidas que anunciamos hoje para conter o avanço da pandemia, como ampliação do número de leitos para a Covid-19 e a intensificação da fiscalização a fim de garantir o cumprimento de decretos de distanciamento social.\n",
      "\n",
      "EXTRAORDINÁRIO! Butantan desenvolve mais uma vacina contra Covid e pede à Anvisa autorização para testes.\\n\\nMeus parabéns aos pesquisadores e cientistas de nossas instituições públicas, que têm nos dado esperanças de dias melhores no enfrentamento à doença.\n",
      "\n",
      "Todo o meu reconhecimento ao Servidor Público, responsável pelo serviços prestados à população nas adms  municipais, estaduais e federal. Nesta pandemia, esses trabalhadores mostraram ainda + sua importância. Se dedicaram e se desdobraram p/atender a população em todas as áreas.\n",
      "\n",
      "O @PDT_Nacional entrou com ação no STF para obrigar o Governo Federal a reabastecer hospitais e unidades de saúde, principalmente no combate à Covid-19.\\n\\nA ação também pede que Executivo apresente plano sobre as estratégias para o enfrentamento da situação de emergência. https://t.co/5qgSYrUcNk\n",
      "\n",
      "⚠️O governador @FlavioDino editou o decreto,  atualizando as normas estaduais destinadas a contenção do Coronavirus. \\n\\n👉Dentre as medidas, há o retorno da obrigatoriedade do uso de máscaras em locais fechados em todo o Estado do Maranhão. \\n\\nConfira: https://t.co/LOwaGFleLp https://t.co/kEAJBu0S05\n",
      "\n",
      "Estive hoje (22) no escritório do Ministério da Saúde no Rio. Fui cobrar informações sobre a vacinação contra a Covid-19 e se os formandos das áreas de Saúde já estão combatendo o coronavírus. A prioridade é salvar vidas! #DelegadaMarthaRocha #Saúde #Covid19 #RioDeJaneiro https://t.co/H8KY19IUbw\n",
      "\n",
      "Anvisa aprova as duas vacinas para o uso emergencial no Brasil. Agora temos que cobrar o ministério da saúde e o governo do Amazonas para um plano de vacinação em massa, a situação do nosso estado requer urgência.\\n\\n#VacinaNoAmJá\n",
      "\n",
      "Bom dia! Acontecendo agora reunião da Frente Nacional de Prefeitos. A pauta é a formalização do consórcio para compra da VACINA. O Presidente do consórcio será o prefeito de Florianópolis Gean Loureiro. https://t.co/EDZaBcTlsl\n",
      "\n",
      "Bom dia! Acontecendo agora reunião da Frente Nacional de Prefeitos. A pauta é a formalização do consórcio para compra da VACINA. O Presidente do consórcio será o prefeito de Florianópolis Gean Loureiro. https://t.co/EDZaBcTlsl\n",
      "\n",
      "Me reuni hoje com os especialistas que estão à frente do Plano Municipal de Vacinação contra a Covid. Teremos uma vacinação rápida e segura em São Luís, tão logo as vacinas sejam disponibilizadas. \\n\\n#BraideTrabalha\\n#NaLutaContraaCovid https://t.co/YCwzGAw7Bu\n",
      "\n",
      "Desejo muito sucesso ao novo ministro Marcelo Queiroga. Agora é hora de focar em soluções para o Brasil. A vacinação em massa é a principal saída para salvar vidas e retomar a nossa economia.\n",
      "\n",
      "==========================================================================================================\n",
      "Tópico 3:\n",
      "==========================================================================================================\n",
      "Uma mulher negra, grávida foi assassinada no rio de janeiro em uma operação policial!\\nUma mulher negra, grávida foi assassinada no rio de janeiro em uma operação policial!\\nUma mulher negra, grávida foi assassinada no rio de janeiro em uma operação policial!\n",
      "\n",
      "Com a MP 1045 a câmara aprovou mais um crime contra a classe trabalhadora permitindo a contratação de jovens sem vínculo trabalhista, férias, FGTS ou 13° salário e dificultando a fiscalização contra o trabalho escravo.\\n\\nVotos favoráveis👇🏻\\n\\nPT: 0\\nPCdoB: 0\\nPSOL: 0\\nPDT: 3\\nPSB: 4\n",
      "\n",
      "Sou defensora da Vida sem seletividade! Sou mulher e luto pela vida e dignidade das mulheres! A vereadora e os vereadores devem estar preocupados em promover nas escolas e na sociedade em geral políticas que combatam à violência sexual contra meninas e meninos.\n",
      "\n",
      "7 a cada 10 vítimas de violência sexual no 🇧🇷 são meninas de até 14 anos. Acabar c/ o aborto em caso de estupro, como prevê o PL 5435, é condená-las à tortura! Meninas não são mães e #GravidezForçadaÉTortura. VOTEM NÃO! #Equipe \\n\\n[fonte: Anuário Bras. de Segurança Pública 2020]\n",
      "\n",
      "Punição mais rigorosa para criminosos é uma das principais formas de prevenir a violência. Pensando nisso, apresentei dois projetos para punir com mais rigor quem cometer furto ou roubo contra crianças e adolescentes em imediações escolares. Protegê-los é nossa prioridade! https://t.co/qxEFIiaZmZ\n",
      "\n",
      "Esse projeto é um retrocesso, pois além de permitir a legalização do trabalho de crianças e adolescentes e aumentar a superexploração, vai rebaixar o valor pago à força de trabalho. Querem tirar empregos de adultos para colocar crianças no lugar! https://t.co/A0mGk5ISiq\n",
      "\n",
      "- Aprovamos 4 emendas importantes no PL que cria a Política Estadual de Segurança Pública e Defesa Social. Elas preveem o combate a mortes e lesões no trânsito, ao feminicídio, e proteção a bens jurídicos coletivos e às vítimas e testemunhas de crimes.\n",
      "\n",
      "GRAVÍSSIMO! Uma mulher, com uma criança no colo, foi xingada de \"cachorra\" e agredida por um PM, no RN. Isso acontece na mesma semana em que as cenas do DJ Ivis agredindo a ex-mulher, que também levava o filho no colo, vieram a público. Até quando? https://t.co/Frg0jfd6GW\n",
      "\n",
      "Defendo que o Conselho Estadual de Direitos da Criança e Adolescente do AM seja paritário. Por isso, estou apresentando à @ALEAM_2011, indicação p/ rever a lei de composição do Conselho, aumentando as vagas da sociedade civil, voltando a ser paritário\\n\\n#HomemDaKombi #ZeRicardoAM https://t.co/BEFiroAxf9\n",
      "\n",
      "LEI ÁGATHA FELIX: Sancionada hoje, lei garante prioridade em investigações de crimes contra a vida de crianças e adolescentes. 8 crianças e 18 adolescentes foram mortos a tiros no Grande Rio em 2020. Autoria: @delmartharocha @danimontpsol @renatasouzario  https://t.co/FaD2mqkXEo https://t.co/vU16fhomZ2\n",
      "\n",
      "É um absurdo esse projeto que tramita no Senado e propõe um auxílio financeiro para mulheres vítimas de estupro não abortarem. O direito ao aborto, em alguns casos, já é garantido por lei. Esse projeto é um retrocesso!\n",
      "\n",
      "Falei ainda da Lei Murilo Soares, projeto de lei de minha autoria em tramitação na Assembleia Legislativa, que prioriza investigação de crimes contra a vida e de desaparecimento de crianças e adolescentes em Goiás. \\n#PolíciaCivildeGoiás\n",
      "\n",
      "A discussão da alienação parental é uma questão que adormeceu no Congresso, mas é um tema que nao pode ser mais postergado. Precisamos falar sobre isso, sobre as famílias, sobre a proteção das crianças!\\n#SheriNaMidia #EntrevistaRadioRoraima #JornalRoraimaNoticias\n",
      "\n",
      "1. @jairbolsonaro cumpriu sua palavra e retirou impostos federais sobre o diesel e gás de cozinha. Resultado: diesel 10% e gás de cozinha 5% mais baratos para o consumidor final. E como fica o ICMS sobre esses produtos? @wilsonlimaAM @AmazonasGoverno @AssembleiaAM\n",
      "\n",
      "O @SenadoFederal quer discutir PL do @EduGiraoOficial que pode acabar c/ o direito ao aborto nos casos previstos em lei! As mulheres seriam obrigadas a seguir uma gestação decorrente de estupro e Estado ou estuprador pagariam #BolsaEstupro #GravidezForçadaÉTortura\\n\\n#EquipeÁurea\n",
      "\n",
      "Vitória para o direito de meninas e mulheres! 💜\\n\\nAcabamos de aprovar o Projeto de Lei da deputada \\n@MariliaArraes que determina a distribuição de absorventes nas escolas. Quando estive na Comissão de Educação, apresentamos parecer favorável à medida! \\n\\n#SaúdeMenstrual\n",
      "\n",
      "MAIS UMA VITÓRIA DAS #MULHERESPT PARA AS MULHERES DO BRASIL! ✊♀️\\n\\nO PL 4968/2019, de autoria da deputada @mariliaarraes, que fornece absorventes gratuitos para mulheres e meninas em vulnerabilidade, foi APROVADO na Câmara dos Deputados.\\n\\nPor mais dignidade para todas!\n",
      "\n",
      "\"Eu não vou deixar, não vou permitir que violem a dignidade do trabalhador\"\\n\\n\"Seus filhos estão presenciando sua covardia\"\\n\\n\"Venham presenciar, a honra ou a desonra, de policiais militares do Estado da Bahia\"\n",
      "\n",
      "Com parecer favorável, se destaca, o de nº 3833/21, voltado a determinar prioridade nas investigações para apuração de crimes contra a vida e desaparecimentos que tenham como vítima crianças e adolescentes, de autoria da @Adriana_Accorsi.\\n\\n#Defesa #Crianças #Adolescentes #Goiás\n",
      "\n",
      "É hora de organizar as escolas, formar professores e ativar uma rede de proteção social com o objetivo de garantir o direito à educação de todas as nossas crianças e jovens.\n",
      "\n",
      "==========================================================================================================\n",
      "Tópico 4:\n",
      "==========================================================================================================\n",
      "Enviei ofício à AGU para que deixe a defesa de Pazuello diante da CPI da COVID-19. Não basta ter boicotado a vacina, ter sido pau mandado do Bolsonaro. Agora o EX-ministro quer ter peça caríssima de defesa paga com dinheiro publico? Falta óleo de peroba pra tanta cara de pau! https://t.co/AJZYYtXp5Y\n",
      "\n",
      "O povo está cansado. Liga a televisão, tá lá o Bolsonaro mentindo. Vai ver o jornal, tá lá o filho dele inventando uma fake news. Não há uma única mensagem de paz. É só ódio. Se for necessário pra tirar o Bolsonaro que eu seja candidato, não tenham dúvida que serei.\n",
      "\n",
      "O povo está cansado. Liga a televisão, tá lá o Bolsonaro mentindo. Vai ver o jornal, tá lá o filho dele inventando uma fake news. Não há uma única mensagem de paz. É só ódio. Se for necessário pra tirar o Bolsonaro que eu seja candidato, não tenham dúvida que serei.\n",
      "\n",
      "O povo está cansado. Liga a televisão, tá lá o Bolsonaro mentindo. Vai ver o jornal, tá lá o filho dele inventando uma fake news. Não há uma única mensagem de paz. É só ódio. Se for necessário pra tirar o Bolsonaro que eu seja candidato, não tenham dúvida que serei.\n",
      "\n",
      "O povo está cansado. Liga a televisão, tá lá o Bolsonaro mentindo. Vai ver o jornal, tá lá o filho dele inventando uma fake news. Não há uma única mensagem de paz. É só ódio. Se for necessário pra tirar o Bolsonaro que eu seja candidato, não tenham dúvida que serei.\n",
      "\n",
      "Cada dia fica provado que o Gov Bolsonaro nunca se negou a adquirir vacina. Fica claro após o depoimento do Gerente Geral da Pfizer na América Latina durante depoimento na CPI da Pandemia que ele afirma: O Brasil foi um dos PRIMEIROS países a ter o registro da vacina da Pfizer.\n",
      "\n",
      "Qndo Bolsonaro nega oferta da Pfizer a 50% do valor pago por EUA e UE, fica óbvio que a questão nunca foi o preço, e sim política deliberada de aposta na imunidade de rebanho, nem que isso significasse milhares de mortes.Tirar o genocida é a única forma de salvar as nossas vidas.\n",
      "\n",
      "Bolsonaro tinha onde comprar a vacina. Podia comprar ao Butantan, podia comprar à Pfizer, poderia comprar à Moderna. Mas nós temos um presidente que manda comprar \"na casa da sua mãe\". Aí pergunte: por que é que tem 454.623 mortos no Brasil? É porque somos governados por esse ser\n",
      "\n",
      "Excursão da vacina, a cara de parte das nossas elites: antipatriótica, cafona e ignorante. Vão tirar self fazendo arminha com a mão e gritando mito na fila da vacina, em Miami. No Brasil, o povo morre à míngua. O problema é que sem vacina para todos, nem os ricos ficarão livres. https://t.co/U1ULeqEfRR\n",
      "\n",
      "Dor e revolta! Hoje chegamos à 2.349 mortos.\\n\\nDurante meses, Bolsonaro disse: \"gripezinha\", \"país de maricas\", \"frescura\", \"mimimi\".\\nAgora diz que \"não pode chamar de genocida\"?! Isso é o que?!\\n\\nTirar Bolsonaro e Mourão é questão de vida ou morte!\\nQuarentena, renda e vacina, já!\n",
      "\n",
      "Dor e revolta! Hoje chegamos à 2.349 mortos.\\n\\nDurante meses, Bolsonaro disse: \"gripezinha\", \"país de maricas\", \"frescura\", \"mimimi\".\\nAgora diz que \"não pode chamar de genocida\"?! Isso é o que?!\\n\\nTirar Bolsonaro e Mourão é questão de vida ou morte!\\nQuarentena, renda e vacina, já!\n",
      "\n",
      "Pazuello: assunto \"Pfizer\" é \"complexo\", mas é \"simples de compreender\". Sim, é simples. A empresa ofertou as vacinas e o governo Bolsonaro ignorou as propostas. Ou seja, descaso e incompetência. Com isso, dezenas de milhares de vidas que poderiam ter sido salvas foram perdidas\n",
      "\n",
      "Enquanto Bolsonaro protela a vacina e defende tratamento precoce p/o povo, a elite, escravocrata e cruel, ovaciona Bolsonaro em jantar. Otimismo só para fura fila.O Brasil responde por 1 em cada 3 mortes de Covid no mundo.O único tratamento precoce contra o vírus é o impeachment! https://t.co/WNmPza7B0j\n",
      "\n",
      "Enquanto Bolsonaro protela a vacina e defende tratamento precoce p/o povo, a elite, escravocrata e cruel, ovaciona Bolsonaro em jantar. Otimismo só para fura fila.O Brasil responde por 1 em cada 3 mortes de Covid no mundo.O único tratamento precoce contra o vírus é o impeachment! https://t.co/WNmPza7B0j\n",
      "\n",
      "Tinha procurador da Lava-Jato querendo a cabeça do presidente Lula, outro fez piada com a morte de seu neto. A troca de mensagens entre eles revelou que o que movia a Lava-Jato era ódio. E quando justiça se mistura com ódio vira linchamento. Foi isso que teve contra Lula.\n",
      "\n",
      "É sério isso?\\nEstão brigando na CPI por causa de um contrato que não aconteceu ? \\nA CPI, não conseguiu inventar uma falsa narrativa de falta de vacina e agora vão tentar inventar uma corrupção que não houve? \\nComo assim? E o acusador é o tal Estelionatário? Só no Brasil,AFF.\n",
      "\n",
      "É sério isso?\\nEstão brigando na CPI por causa de um contrato que não aconteceu ? \\nA CPI, não conseguiu inventar uma falsa narrativa de falta de vacina e agora vão tentar inventar uma corrupção que não houve? \\nComo assim? E o acusador é o tal Estelionatário? Só no Brasil,AFF.\n",
      "\n",
      "Estão fazendo tratamento precoce com a CORONAVAC?gastando bilhões? Claro!o tratamento precoce com Ivermectina e HCQ para eles não vale a pena,é muito barato não rende$$.O Brasil quer uma vacina eficiente, não um engodo de 50%.Vou esperar outra vacina, essa não tomo,não sou cobaia\n",
      "\n",
      "\"É melhor perder a vida do que a liberdade\", disse Queiroga, o ministro que deveria ser da Saúde. \\nA corja fascista de Bolsonaro nega a eficiência do Passaporte da Vacina e nega tudo o que protege a VIDA do cidadão.\\nO Brasil não merece tamanho descaso com a dignidade humana.\n",
      "\n",
      "Os PeTistas (políticos, infiltrados em instituições e disfarçados de Jornalistas) são contra a 1ª Dama ter tomado vacina nos EUA. \\nE daí? O que isto muda na nossa vida? Virou matéria principal dos jornalecos em geral.\\nFalta matéria, vergonha ou já é campanha eleitoral por Lula ?\n",
      "\n",
      "==========================================================================================================\n",
      "Tópico 5:\n",
      "==========================================================================================================\n",
      "1.Mª da Conceição Fonseca Paranhos (Jacarecica);\\n2.Tereza Barbosa (Eustáquio Gomes);\\n3.Hamilton Falcão (Biu);\\n4.José Tenório (Serraria);\\n5.Durval Cortez (Prado);\\n6.Pitanguinha;\\n7.Osvaldo Brandão Vilela (Ponta da Terra);\\n8.Antônio de Pádua (Pinheiro);\\n9.Aliomar Almeida Lins (Biu).\n",
      "\n",
      "Acompanhe a história da professora Elizabeth Battali, uma apaixonada pela dança, que montou uma sala para atender crianças e jovens da zona Norte de Teresina. A sala de dança que leva o seu nome, foi contemplada pelo Siec, e ganhou novos equipamentos e uma estrutura muito melhor. https://t.co/6QLbFsnKCR\n",
      "\n",
      "Uma notícia triste. A mãe do companheiro Hamilton Assis faleceu. O sepultamento será hoje (10), às 16h, no Bosque da Paz. Dona Teodora, Dona Julice para os que tiveram o prazer de conviver com ela, PRESENTE! Meus sentimentos e força para prosseguir à família e demais pessoas. https://t.co/Hr8SYvWDwn\n",
      "\n",
      "Foi ele o principal incentivador da construção da Galeria Álvaro Santos e um dos criadores dão Festival de Artes de São Cristóvão. Clodoaldo Alencar Filho foi um grande sergipano! Aos familiares e amigos, o meu mais profundo sentimento de pesar e solidariedade. 🙏\n",
      "\n",
      "Olha quem voltou a frequentar a praia da Avenida. Depois da limpeza que fizemos na região, pescadores convivem em equilíbrio com a natureza. Aqui foram recolhidas mais de 1.000 toneladas de resíduos. Contamos com a colaboração de vocês para manter a paisagem assim. Todos ganham! https://t.co/97nLH8A4KK\n",
      "\n",
      "Aniversário de Teresina: 169 anos.\\nAno 2020. Gestor: prefeito Firmino Filho. Reajuste salarial de 12,84% para professores e pedagogos.\\nAno 2021. Teve reajuste salarial para os professores?!! \\nInvestir em educação é, principalmente, valorizar o professor. https://t.co/MabM17grL6\n",
      "\n",
      "Dia de marcar presença no aniversário do meu xará Hermano Neto, presidente da Associação dos Plantadores de Cana do Rio Grande do Norte (Asplan). Estivemos na companhia de sua esposa Roberta Almeida, sua mãe Isabel Almeida e Isaura Simonetti. https://t.co/AlWb1XQqJX\n",
      "\n",
      "O tempo da Quaresma é feito para ter esperança, para voltar a dirigir o nosso olhar para a paciência de Deus. É ter esperança naquela reconciliação a que nos exorta apaixonadamente São Paulo: «Reconciliai-vos com Deus» (2 Cor 5, 20).\n",
      "\n",
      "#LutoOficial Nossa Cidade perdeu aos 80 anos o Arquiteto Manoel Coelho. Aos filhos e à viúva Denise Schmidt Coelho os sentimentos de Margarita e meus - e de todos os Curitibanos. Possam os Anjos velar seu repouso com cânticos de Glória. https://t.co/D3BpkzHIEs\n",
      "\n",
      "Vendo a foto da Jeanine Anez dentro de uma cama box fiquei imaginando os Filhos de Januário, lado-a-lado, apertadinhos, no interior de uma king size... Não deixem Sérgio de fora, viu?\\n\\nhttps://t.co/nBEJKyjjhP\n",
      "\n",
      "Em nome da minha mãe Lucy, que é mãe e pai ao mesmo tempo, eu desejo um feliz dia das mães a todas as nossas guerreiras que sempre nos amparam. Deus abençoe a todas as mamães!\n",
      "\n",
      "Compartilho com vocês um pouco de como foi a visita às obras da Cidade da Criança e da Praça Coração de Jesus, na manhã de ontem.🚧👷🏾‍♂️\\n\\nA Cidade da Criança está sendo completamente requalificada. https://t.co/5HBdsJtVsx\n",
      "\n",
      "Andrezinho presente com seus carinhosos gestos de amor, através de 2 🦁 🦁pra Paulo e pra mim e um arco-íris 🌈 \\nFicarão nos nossos criados-mudos pra sempre. \\n# A pureza da criança https://t.co/vc3YCrEgux\n",
      "\n",
      "Tristeza o falecimento de Diogo Santana. Diogo deixa dois filhos, uma legião de amigos, uma história incrível e muita saudade. Meus sentimentos à família, amigos e amigas.\n",
      "\n",
      "Santa Mãe de Deus, nós Vos consagramos o novo ano. Vós que sabeis guardar no coração, cuidai de nós. Abençoai o nosso tempo e ensinai-nos a encontrar tempo para Deus e para os outros. https://t.co/saealowquD\n",
      "\n",
      "Feliz Aniversário! 🥳🎁🎂🎈🎉 \\nMinha maninha, meu bebê, meu amor… te amo tanto. 🥰\\nParabéns por mais um ano de vida, meu orgulho. Que DEUS te ilumine e guie SEMPRE. https://t.co/bj2Ip0ylTQ\n",
      "\n",
      "Guardarei, sempre, boas lembranças de Firmino!\\nNesta foto, estávamos em uma das muitas Creches que ele construiu e entregou para a criançada de Teresina.\\nFirmino, presente 🙏 https://t.co/gIGG3VK0Qo\n",
      "\n",
      "Foi muito bonito ver a força espiritual dos pais do @lucasmeiralm.\\nA família está conduzindo este momento difícil com muita luz, paz e delicadeza.\n",
      "\n",
      "Grande encontro para celebrar a retomada da parceria com a Orquestra Villa-Lobos, que transforma a vida das crianças e jovens pela educação e pela arte. https://t.co/IZXrGRei2L\n",
      "\n",
      "1.Maria da Conceição Fonseca Paranhos (Jacarecica)\\n2.Tereza Barbosa (Eustáquio Gomes)\\n3.Hamilton Falcão (Biu)\\n4.José Tenório (Serraria)\\n5.Durval Cortez (Prado)\\n6.Pitanguinha\\n7.Osvaldo Brandão Vilela (Ponta da Terra) \\n8.Antônio de Pádua (Pinheiro)\\n9.Aliomar Lins (Biu)\n",
      "\n"
     ]
    }
   ],
   "source": [
    "for n in range(0, num_topics):\n",
    "    print('==========================================================================================================')\n",
    "    print(f'Tópico {n+1}:')\n",
    "    print('==========================================================================================================')\n",
    "    for t in df_tweets.sort_values(f'topic_{n}_prob', ascending=False)[:20]['text']:\n",
    "        print(t, end='\\n\\n')"
   ]
  },
  {
   "cell_type": "markdown",
   "metadata": {},
   "source": [
    "Visualizando o resultado com o auxílio da biblioteca `pyLDAvis`."
   ]
  },
  {
   "cell_type": "code",
   "execution_count": 7,
   "metadata": {},
   "outputs": [
    {
     "data": {
      "text/html": [
       "\n",
       "<link rel=\"stylesheet\" type=\"text/css\" href=\"https://cdn.jsdelivr.net/gh/bmabey/pyLDAvis@3.4.0/pyLDAvis/js/ldavis.v1.0.0.css\">\n",
       "\n",
       "\n",
       "<div id=\"ldavis_el122362017569992688184423645\" style=\"background-color:white;\"></div>\n",
       "<script type=\"text/javascript\">\n",
       "\n",
       "var ldavis_el122362017569992688184423645_data = {\"mdsDat\": {\"x\": [-0.13217011852690805, -0.11170912894233034, 0.10843042598191023, -0.12511371273222927, 0.2605625342195577], \"y\": [-0.16792274028527854, 0.02707831988985691, 0.2234260879974961, 0.05672625793844208, -0.13930792554051658], \"topics\": [1, 2, 3, 4, 5], \"cluster\": [1, 1, 1, 1, 1], \"Freq\": [10.074627465862289, 23.4740149277407, 15.821436591512454, 10.209609200433938, 40.42031181445062]}, \"tinfo\": {\"Term\": [\"ser\", \"dose\", \"vacinacao\", \"vacina\", \"crianca\", \"ano\", \"vacinar\", \"bolsonaro\", \"covid\", \"ter\", \"saude\", \"contra\", \"governo\", \"pessoa\", \"mulher\", \"estar\", \"amigo\", \"mae\", \"brasil\", \"pandemia\", \"ir\", \"projeto\", \"receber\", \"dia\", \"direito\", \"pai\", \"lei\", \"idoso\", \"deus\", \"chegar\", \"dose\", \"idoso\", \"feira\", \"partir\", \"amanha\", \"aplicar\", \"avancar\", \"drive\", \"comorbidade\", \"imunizar\", \"thru\", \"prioritario\", \"aguardar\", \"aplicacao\", \"sexta\", \"astrazeneca\", \"data\", \"aracaju\", \"idade\", \"reforco\", \"faixa\", \"pessoal\", \"calendario\", \"chegada\", \"segunda\", \"cadastro\", \"posto\", \"etario\", \"disponivel\", \"site\", \"vacinar\", \"segundo\", \"grupo\", \"chegar\", \"pessoa\", \"tomar\", \"vacinacao\", \"acima\", \"mil\", \"ano\", \"saude\", \"semana\", \"receber\", \"vacina\", \"covid\", \"ser\", \"ir\", \"estar\", \"contra\", \"primeiro\", \"dia\", \"ter\", \"imunizacao\", \"todo\", \"hoje\", \"populacao\", \"bom\", \"poder\", \"novo\", \"emergencial\", \"sp\", \"consorcio\", \"fiocruz\", \"recife\", \"palma\", \"producao\", \"instituto\", \"leito\", \"distanciamento\", \"codigo\", \"setembro\", \"psol\", \"detalhe\", \"sabotar\", \"india\", \"solucao\", \"racismo\", \"decreto\", \"patente\", \"maranhao\", \"oms\", \"outubro\", \"doacao\", \"felicidade\", \"adotar\", \"pni\", \"israel\", \"prevent\", \"conectar\", \"tecnico\", \"covo\", \"paciente\", \"fio\", \"esforco\", \"butantan\", \"auxilio\", \"medida\", \"insumo\", \"uso\", \"pandemia\", \"governador\", \"anvisa\", \"uti\", \"nacional\", \"massa\", \"ciencia\", \"covid\", \"combate\", \"municipal\", \"vacinacao\", \"vacina\", \"reuniao\", \"saude\", \"municipio\", \"contra\", \"populacao\", \"brasil\", \"estado\", \"governo\", \"todo\", \"ser\", \"precisar\", \"sobre\", \"prefeito\", \"estar\", \"vida\", \"luta\", \"ter\", \"imunizacao\", \"hoje\", \"social\", \"sao\", \"ir\", \"fazer\", \"dia\", \"mulher\", \"projeto\", \"direito\", \"lei\", \"negro\", \"violencia\", \"pl\", \"menina\", \"policia\", \"policial\", \"jacarezinho\", \"sociedade\", \"transporte\", \"votar\", \"operacao\", \"gravida\", \"expor\", \"deputada\", \"greve\", \"luto\", \"autoria\", \"prender\", \"carta\", \"pec\", \"ambiente\", \"pobreza\", \"absorvente\", \"garoto\", \"sexual\", \"reforma\", \"tocantim\", \"camara\", \"politica\", \"aborto\", \"adolescente\", \"civil\", \"pobre\", \"senado\", \"justica\", \"investigacao\", \"deputado\", \"crianca\", \"humano\", \"publico\", \"ser\", \"sobre\", \"aprovar\", \"jovem\", \"educacao\", \"contra\", \"escola\", \"ano\", \"estado\", \"luta\", \"poder\", \"garantir\", \"filho\", \"ter\", \"estar\", \"familia\", \"hoje\", \"bolsonaro\", \"dizer\", \"comprar\", \"covaxin\", \"genocida\", \"corrupcao\", \"falta\", \"contrato\", \"cloroquina\", \"achar\", \"negacionismo\", \"dinheiro\", \"cara\", \"genocer\", \"vc\", \"coisa\", \"propina\", \"cair\", \"pq\", \"negar\", \"depoimento\", \"verdade\", \"eua\", \"mentira\", \"alguem\", \"bolsonarista\", \"passaporte\", \"preco\", \"escandalo\", \"mandar\", \"morte\", \"nada\", \"cpi\", \"chamar\", \"governo\", \"enquanto\", \"querer\", \"morto\", \"ser\", \"vacina\", \"brasil\", \"pais\", \"povo\", \"ter\", \"porque\", \"compra\", \"brasileiro\", \"poder\", \"presidente\", \"mil\", \"fazer\", \"milhao\", \"estar\", \"pfizer\", \"pra\", \"ir\", \"vida\", \"vacino\", \"dar\", \"vacinar\", \"covid\", \"pandemia\", \"todo\", \"sobre\", \"deus\", \"amor\", \"presencial\", \"coracao\", \"presente\", \"sentimento\", \"favela\", \"franco\", \"to\", \"cultura\", \"papai\", \"bebe\", \"recebir\", \"praca\", \"ocupacao\", \"monteiro\", \"maria\", \"tristeza\", \"querido\", \"companheiro\", \"jose\", \"amiga\", \"agente\", \"saudade\", \"carinho\", \"associacao\", \"abertura\", \"desejo\", \"antonio\", \"desigualdade\", \"amigo\", \"aniversario\", \"feliz\", \"bairro\", \"mae\", \"pai\", \"espaco\", \"joao\", \"familiar\", \"filho\", \"familia\", \"dia\", \"porto\", \"solidariedade\", \"forca\", \"centro\", \"hoje\", \"sempre\", \"aula\", \"todo\", \"cidade\", \"bom\", \"ano\", \"jovem\", \"ser\", \"grande\", \"escola\", \"crianca\", \"educacao\", \"maes\", \"estar\", \"ter\", \"fazer\", \"ir\", \"vida\"], \"Freq\": [750.0, 104.0, 171.0, 204.0, 147.0, 159.0, 73.0, 56.0, 111.0, 190.0, 90.0, 126.0, 63.0, 57.0, 41.0, 197.0, 87.0, 118.0, 61.0, 61.0, 119.0, 35.0, 52.0, 200.0, 32.0, 113.0, 29.0, 22.0, 56.0, 27.0, 104.8198548455369, 22.697070040690566, 14.64022970287074, 14.016857068267687, 13.619096640996519, 12.309346277799381, 10.801779865217124, 10.607565783030372, 9.888613130235791, 9.640542598758108, 7.1626543273829935, 7.031049357451291, 7.02800704443977, 6.836042138513369, 6.735920356470087, 6.426629288691514, 6.452786375571141, 7.835949992699609, 6.334793791123309, 6.00036052298843, 5.900323217048824, 5.842709341063174, 5.553751788767125, 5.478132769906499, 5.2942106930175, 5.281908273780202, 4.683165996474727, 4.639522649454156, 4.487517287124521, 4.341005804731814, 62.21212619206146, 17.199745355980376, 15.52804304723658, 21.93973942468469, 37.30642372766805, 14.33295139559015, 81.45657105288781, 6.303564618185523, 17.80991507954654, 48.44939201611602, 31.124603254228987, 14.925872741376761, 21.592812492800025, 45.07979980648914, 31.681183449526248, 83.96027381361098, 31.659754677893993, 39.75576376911784, 30.465891449588504, 17.709363877309578, 32.96116302585321, 30.465041995434884, 15.327135407112792, 22.593471832325207, 20.218698378277754, 15.017235994059837, 16.645890688305855, 15.153729431852128, 14.77961879377234, 32.30045687125749, 28.57609970129064, 15.536137977840026, 11.968437331921809, 11.402124728765765, 15.805500429786374, 9.630702060848146, 13.5653499984124, 12.549428838233437, 7.879721053857218, 8.357510535208158, 7.456404395725973, 7.364370447702866, 7.221785249525841, 6.969914052280157, 6.849845435878151, 6.808501476128926, 7.576049279938927, 6.481687773737257, 7.280008786057661, 5.831262964176337, 5.617078986232259, 5.60849875112346, 5.56650381571283, 6.383273922512858, 5.447313076725076, 5.380589609168674, 5.437191686638355, 5.370167164196021, 5.253601514463347, 11.359789099006354, 8.245442255911062, 11.405743538348071, 6.24024107178127, 9.334418946116697, 22.027120522175846, 28.08658514020522, 30.473244393139037, 12.620245422048281, 17.323022086584945, 52.30621219316923, 19.618537912531682, 18.495576533886037, 9.216518881708016, 29.60739277178599, 10.929340071318741, 17.3278225622235, 69.39767147282734, 18.78084534545819, 31.51181745601791, 89.61496757229419, 101.47532995908122, 18.581769128651356, 52.4521182215182, 18.71313840915978, 61.404524146351015, 29.67012427205811, 33.21460849465036, 29.24611597364409, 32.70430918625292, 71.13286298826395, 141.50859583361748, 26.783838294378846, 32.38972767534457, 26.045508191882018, 49.1074879693314, 30.629511356949344, 25.527024017845726, 33.688048570112386, 20.71737526083997, 29.85394476318104, 20.323708920918136, 22.515786252005135, 25.42898059056724, 24.34893644828243, 25.260045401182303, 41.67837912728893, 35.85491355884809, 32.42836794427606, 28.977180121878348, 22.371225878770247, 16.52448158641212, 15.83480378735335, 13.075284634775256, 11.523529394260617, 11.310560577950987, 12.021844069320514, 8.987427214076765, 8.848522290907967, 7.888116470379114, 7.732235251277759, 6.475023858257656, 6.411919888303542, 5.969861822286122, 5.9471312557509295, 5.684417847970825, 5.317388708468599, 5.094014575264723, 5.244482394740544, 4.928483483056211, 5.681531960576852, 4.7680083365837325, 4.597949648653695, 4.487058792165162, 4.321285405181035, 4.108601722837386, 4.622259737594943, 19.93227561215192, 17.50118748855679, 5.204975909130954, 22.566585484657402, 5.677683342990796, 8.20782580871284, 7.675197402806683, 10.487167386031562, 8.242382755607627, 16.469658478019287, 78.68801983798222, 7.499935826111295, 31.9080809102868, 178.60330255558262, 25.639741865812262, 16.61415460648546, 23.504522380157812, 21.387179274070046, 27.562771932039862, 19.698791890658256, 27.692179452768286, 17.075275651579044, 16.28059116611484, 16.912153227396562, 13.578368739695838, 18.642414307162976, 20.066431373464077, 20.145902217320064, 14.961785308805435, 14.326310601470336, 56.3100666946204, 17.899330527373948, 8.877507884985851, 7.457746138406994, 6.562583843347823, 5.415121898880047, 5.831682953436973, 4.296400141742756, 4.124252106021013, 4.111982230519365, 3.861811781125739, 3.7306131692855415, 3.6639929590723472, 3.549306274027077, 3.555483123993748, 3.4664939777583266, 3.3575204330575903, 3.288659851420007, 3.2657671613245713, 3.212525865459302, 3.168706197916631, 3.071538819095405, 2.847795062167463, 2.830141399052902, 2.721921382488138, 2.6985596322749257, 2.680906860909638, 2.6189855748674318, 2.530709530800925, 2.532366103701033, 18.30970997596808, 5.111928929442877, 8.828455135457462, 4.173929377290499, 29.510380476878595, 6.086968179412721, 14.036544956041721, 5.180790997329249, 146.27638702777207, 58.240725273384804, 24.775886210875562, 15.403426565211014, 10.534048682120583, 49.7089295576885, 5.978790075063804, 10.614721077383075, 13.33416042439375, 19.35952002450945, 12.229662365415995, 11.929021582399127, 20.95289762611397, 11.618890209115854, 26.53810405289725, 7.972089878783751, 12.276998794842964, 17.94025111802899, 15.819274220349268, 7.473838645793694, 9.870747737624571, 10.602759747130003, 10.372416153830068, 9.1883146097188, 10.86873050739843, 9.174223782200992, 56.52329331954098, 40.07723774204152, 28.59971801281683, 26.433714292651644, 26.010796178631686, 23.70759344072193, 24.243023128289607, 21.855505554507626, 21.342421428500142, 19.509664077054524, 19.500992050346227, 19.36116047407995, 18.249185171527795, 18.003272195948306, 18.38721502803693, 22.786616907983337, 16.948103434478533, 17.0464260236292, 16.90501397078954, 16.153400272047982, 15.822150976109523, 15.348128040290899, 15.54522629638877, 14.095743340178698, 14.09119726348252, 14.07110061534878, 14.32814047551599, 16.780242229750026, 13.151646894736734, 13.36959025995172, 87.4442595116497, 15.795063984829186, 57.253038071027795, 27.25355444659925, 111.43670825876998, 105.3384176291116, 29.487573970215724, 26.02102279175356, 31.34009022089221, 91.55158743791473, 72.73756135728395, 126.63323411468816, 38.445260933512905, 29.769249494260183, 36.11896181940869, 25.866213758041702, 98.08954946863598, 32.581492785946494, 34.26247731332979, 118.18289307652593, 55.17878436989985, 62.79402653538741, 82.71690462383783, 47.66516343528685, 200.545610899666, 52.37281355783834, 42.285767226507275, 68.92527769212488, 43.76348340198165, 33.00424614440407, 61.678042965367695, 56.37616189503592, 43.026230504152196, 37.947299014480805, 32.19945288060333], \"Total\": [750.0, 104.0, 171.0, 204.0, 147.0, 159.0, 73.0, 56.0, 111.0, 190.0, 90.0, 126.0, 63.0, 57.0, 41.0, 197.0, 87.0, 118.0, 61.0, 61.0, 119.0, 35.0, 52.0, 200.0, 32.0, 113.0, 29.0, 22.0, 56.0, 27.0, 104.87847782080793, 22.756169057051828, 14.699228680596402, 14.076058721220223, 13.678248802489696, 12.367962530890162, 10.860800397175788, 10.66622455907809, 9.94711452975776, 9.69930234949815, 7.221465034786148, 7.0898783359008295, 7.086926645284611, 6.894695428334599, 6.795027473591857, 6.485255542429315, 6.511937138487891, 7.90801436574366, 6.3943307503096785, 6.0592710780354055, 5.95902591795455, 5.902078466208162, 5.612309153861489, 5.536893558542325, 5.352924407856033, 5.340496063715879, 4.741869602410966, 4.69813383437376, 4.54633049823051, 4.400310757939448, 73.15777514733529, 19.620405320856676, 17.917575479222922, 27.084654811838604, 57.85642927619774, 18.79646894986744, 171.13786752309062, 6.7554324583223195, 32.88393974307373, 159.0861794135795, 90.36215611366102, 27.755128972961074, 52.55340784488664, 204.8403641173043, 111.4961689856046, 750.8941701302492, 119.39745210548314, 197.22530097403424, 126.08182424232331, 44.38165555366946, 200.04554715011932, 190.30461339173576, 36.09144675300687, 235.06131500237453, 166.17993797102596, 47.82263360755645, 103.46140538496903, 66.32906448016338, 60.00982764769584, 32.35164412832882, 28.632230217844164, 15.587181053467534, 12.019737081222347, 11.455463088036991, 15.88201872654888, 9.681837259496124, 13.642815772874213, 12.623453611113426, 7.930793924342574, 8.415980050078167, 7.509151264827893, 7.416846496615306, 7.273552494521981, 7.021817440927452, 6.901081624530919, 6.860360822767973, 7.635636361336031, 6.532903528374564, 7.339484316122482, 5.883020495312899, 5.668239603110205, 5.660680853828804, 5.6185310065835745, 6.4431686064793166, 5.49888415185607, 5.431920480597373, 5.489120743511493, 5.422198523800081, 5.30485677868188, 11.485079985589513, 8.333219905854866, 11.634492156119281, 6.3093707107570856, 9.572327353089033, 23.363406876428247, 30.186500619373138, 33.21078073836464, 13.192960715013722, 18.479491462327676, 61.633189723489814, 21.642984814578675, 20.90843822225866, 9.66576040367428, 37.227384640186195, 11.796692157427586, 20.766009481545417, 111.4961689856046, 22.935757107390362, 43.6030811970403, 171.13786752309062, 204.8403641173043, 23.4935844466876, 90.36215611366102, 24.188934889265806, 126.08182424232331, 47.82263360755645, 61.968128734499146, 51.18366659816928, 63.353486198457375, 235.06131500237453, 750.8941701302492, 47.85141761122584, 68.99134014827881, 49.3277406852625, 197.22530097403424, 89.76147854764845, 57.04429796826323, 190.30461339173576, 36.09144675300687, 166.17993797102596, 33.626905259744014, 57.71513426237148, 119.39745210548314, 97.8490269131039, 200.04554715011932, 41.731476160234976, 35.9081450238937, 32.4815746946877, 29.030037129094747, 22.424567872347936, 16.577337461410945, 15.887633919820743, 13.128852857894687, 11.576796992674048, 11.363500530326847, 12.087549019356954, 9.040600495880852, 8.902106132231953, 7.9409224100051246, 7.785234390106101, 6.528272798286002, 6.4657080622656204, 6.0236616555949665, 6.001321117961817, 5.738240603417239, 5.370259864946778, 5.147282523492065, 5.299558140436296, 4.9813465517101925, 5.743332344959785, 4.820632690463273, 4.650557917148831, 4.541025369641566, 4.373841278330644, 4.161782778211772, 4.691678436666933, 21.520531208580653, 19.6524807025952, 5.332197681980074, 27.167799513378743, 5.873786800405733, 8.928442341938505, 8.309217468456117, 12.124550834069227, 9.126884980589073, 21.129597629048455, 147.6319332223478, 8.293553969369784, 62.30940223721534, 750.8941701302492, 68.99134014827881, 36.13270590941271, 72.21398165533965, 67.24816956228364, 126.08182424232331, 62.00330244773885, 159.0861794135795, 51.18366659816928, 57.04429796826323, 66.32906448016338, 35.1971880453472, 115.73750813731671, 190.30461339173576, 197.22530097403424, 90.29628640867787, 166.17993797102596, 56.37059823212255, 17.960147963364093, 8.938015659866617, 7.517960476823002, 6.622953066680538, 5.475400758803901, 5.8973610325193455, 4.357246512476792, 4.184618780978783, 4.17315075388544, 3.9226164291563483, 3.7910462186618563, 3.7246847914258696, 3.609698676208411, 3.616620639065551, 3.527661802329209, 3.417639165827598, 3.349551912876022, 3.3268172837129035, 3.2729578127399686, 3.2296756126414214, 3.132077405900343, 2.9084817696992027, 2.8905545607774084, 2.783112930134079, 2.759388489474461, 2.741802144479523, 2.6795660201243594, 2.5910544115096132, 2.5936739611577644, 19.915338413241518, 5.680423864645402, 10.606727791272462, 4.7837032291942805, 63.353486198457375, 7.964861861801849, 24.028746733883477, 6.564093659834306, 750.8941701302492, 204.8403641173043, 61.968128734499146, 31.153599185348103, 18.115925893760256, 190.30461339173576, 8.122200334509206, 21.103209763319516, 32.38856844967156, 66.32906448016338, 30.88269972408746, 32.88393974307373, 97.8490269131039, 33.829391787106275, 197.22530097403424, 16.7397697371022, 45.22246091463832, 119.39745210548314, 89.76147854764845, 15.145364182200439, 49.323420444616175, 73.15777514733529, 111.4961689856046, 61.633189723489814, 235.06131500237453, 68.99134014827881, 56.55193087875988, 40.105890710432554, 28.628809467095824, 26.462289220515387, 26.039537665316214, 23.736221791155657, 24.2750400182484, 21.88486977975051, 21.371929061514525, 19.538414996216282, 19.529819750545382, 19.390422620171393, 18.277881019932355, 18.032076113038414, 18.416983320742244, 22.82494863409971, 16.97671444963355, 17.075317965769184, 16.933679803571245, 16.182212873481475, 15.8508483401457, 15.377079879851548, 15.57536798783736, 14.12426993439724, 14.119787951528703, 14.100154829916354, 14.357726801158917, 16.815165465182904, 13.180426444640128, 13.39944320637429, 87.98835962093513, 15.85092555508213, 58.283495079044684, 27.586195764479, 118.12490358568068, 113.69365941581378, 30.624967193887613, 27.193767428707144, 33.99619659892639, 115.73750813731671, 90.29628640867787, 200.04554715011932, 46.33670877988662, 33.95130719158046, 43.49903736264544, 28.765658457954917, 166.17993797102596, 39.42751743491678, 42.35568376051716, 235.06131500237453, 82.59646502615315, 103.46140538496903, 159.0861794135795, 72.21398165533965, 750.8941701302492, 87.78833230723805, 62.00330244773885, 147.6319332223478, 67.24816956228364, 43.14734153368342, 197.22530097403424, 190.30461339173576, 97.8490269131039, 119.39745210548314, 89.76147854764845], \"Category\": [\"Default\", \"Default\", \"Default\", \"Default\", \"Default\", \"Default\", \"Default\", \"Default\", \"Default\", \"Default\", \"Default\", \"Default\", \"Default\", \"Default\", \"Default\", \"Default\", \"Default\", \"Default\", \"Default\", \"Default\", \"Default\", \"Default\", \"Default\", \"Default\", \"Default\", \"Default\", \"Default\", \"Default\", \"Default\", \"Default\", \"Topic1\", \"Topic1\", \"Topic1\", \"Topic1\", \"Topic1\", \"Topic1\", \"Topic1\", \"Topic1\", \"Topic1\", \"Topic1\", \"Topic1\", \"Topic1\", \"Topic1\", \"Topic1\", \"Topic1\", \"Topic1\", \"Topic1\", \"Topic1\", \"Topic1\", \"Topic1\", \"Topic1\", \"Topic1\", \"Topic1\", \"Topic1\", \"Topic1\", \"Topic1\", \"Topic1\", \"Topic1\", \"Topic1\", \"Topic1\", \"Topic1\", \"Topic1\", \"Topic1\", \"Topic1\", \"Topic1\", \"Topic1\", \"Topic1\", \"Topic1\", \"Topic1\", \"Topic1\", \"Topic1\", \"Topic1\", \"Topic1\", \"Topic1\", \"Topic1\", \"Topic1\", \"Topic1\", \"Topic1\", \"Topic1\", \"Topic1\", \"Topic1\", \"Topic1\", \"Topic1\", \"Topic1\", \"Topic1\", \"Topic1\", \"Topic1\", \"Topic1\", \"Topic1\", \"Topic2\", \"Topic2\", \"Topic2\", \"Topic2\", \"Topic2\", \"Topic2\", \"Topic2\", \"Topic2\", \"Topic2\", \"Topic2\", \"Topic2\", \"Topic2\", \"Topic2\", \"Topic2\", \"Topic2\", \"Topic2\", \"Topic2\", \"Topic2\", \"Topic2\", \"Topic2\", \"Topic2\", \"Topic2\", \"Topic2\", \"Topic2\", \"Topic2\", \"Topic2\", \"Topic2\", \"Topic2\", \"Topic2\", \"Topic2\", \"Topic2\", \"Topic2\", \"Topic2\", \"Topic2\", \"Topic2\", \"Topic2\", \"Topic2\", \"Topic2\", \"Topic2\", \"Topic2\", \"Topic2\", \"Topic2\", \"Topic2\", \"Topic2\", \"Topic2\", \"Topic2\", \"Topic2\", \"Topic2\", \"Topic2\", \"Topic2\", \"Topic2\", \"Topic2\", \"Topic2\", \"Topic2\", \"Topic2\", \"Topic2\", \"Topic2\", \"Topic2\", \"Topic2\", \"Topic2\", \"Topic2\", \"Topic2\", \"Topic2\", \"Topic2\", \"Topic2\", \"Topic2\", \"Topic2\", \"Topic2\", \"Topic2\", \"Topic2\", \"Topic2\", \"Topic2\", \"Topic2\", \"Topic2\", \"Topic2\", \"Topic2\", \"Topic3\", \"Topic3\", \"Topic3\", \"Topic3\", \"Topic3\", \"Topic3\", \"Topic3\", \"Topic3\", \"Topic3\", \"Topic3\", \"Topic3\", \"Topic3\", \"Topic3\", \"Topic3\", \"Topic3\", \"Topic3\", \"Topic3\", \"Topic3\", \"Topic3\", \"Topic3\", \"Topic3\", \"Topic3\", \"Topic3\", \"Topic3\", \"Topic3\", \"Topic3\", \"Topic3\", \"Topic3\", \"Topic3\", \"Topic3\", \"Topic3\", \"Topic3\", \"Topic3\", \"Topic3\", \"Topic3\", \"Topic3\", \"Topic3\", \"Topic3\", \"Topic3\", \"Topic3\", \"Topic3\", \"Topic3\", \"Topic3\", \"Topic3\", \"Topic3\", \"Topic3\", \"Topic3\", \"Topic3\", \"Topic3\", \"Topic3\", \"Topic3\", \"Topic3\", \"Topic3\", \"Topic3\", \"Topic3\", \"Topic3\", \"Topic3\", \"Topic3\", \"Topic3\", \"Topic3\", \"Topic3\", \"Topic4\", \"Topic4\", \"Topic4\", \"Topic4\", \"Topic4\", \"Topic4\", \"Topic4\", \"Topic4\", \"Topic4\", \"Topic4\", \"Topic4\", \"Topic4\", \"Topic4\", \"Topic4\", \"Topic4\", \"Topic4\", \"Topic4\", \"Topic4\", \"Topic4\", \"Topic4\", \"Topic4\", \"Topic4\", \"Topic4\", \"Topic4\", \"Topic4\", \"Topic4\", \"Topic4\", \"Topic4\", \"Topic4\", \"Topic4\", \"Topic4\", \"Topic4\", \"Topic4\", \"Topic4\", \"Topic4\", \"Topic4\", \"Topic4\", \"Topic4\", \"Topic4\", \"Topic4\", \"Topic4\", \"Topic4\", \"Topic4\", \"Topic4\", \"Topic4\", \"Topic4\", \"Topic4\", \"Topic4\", \"Topic4\", \"Topic4\", \"Topic4\", \"Topic4\", \"Topic4\", \"Topic4\", \"Topic4\", \"Topic4\", \"Topic4\", \"Topic4\", \"Topic4\", \"Topic4\", \"Topic4\", \"Topic4\", \"Topic4\", \"Topic4\", \"Topic5\", \"Topic5\", \"Topic5\", \"Topic5\", \"Topic5\", \"Topic5\", \"Topic5\", \"Topic5\", \"Topic5\", \"Topic5\", \"Topic5\", \"Topic5\", \"Topic5\", \"Topic5\", \"Topic5\", \"Topic5\", \"Topic5\", \"Topic5\", \"Topic5\", \"Topic5\", \"Topic5\", \"Topic5\", \"Topic5\", \"Topic5\", \"Topic5\", \"Topic5\", \"Topic5\", \"Topic5\", \"Topic5\", \"Topic5\", \"Topic5\", \"Topic5\", \"Topic5\", \"Topic5\", \"Topic5\", \"Topic5\", \"Topic5\", \"Topic5\", \"Topic5\", \"Topic5\", \"Topic5\", \"Topic5\", \"Topic5\", \"Topic5\", \"Topic5\", \"Topic5\", \"Topic5\", \"Topic5\", \"Topic5\", \"Topic5\", \"Topic5\", \"Topic5\", \"Topic5\", \"Topic5\", \"Topic5\", \"Topic5\", \"Topic5\", \"Topic5\", \"Topic5\", \"Topic5\", \"Topic5\", \"Topic5\", \"Topic5\", \"Topic5\", \"Topic5\"], \"logprob\": [30.0, 29.0, 28.0, 27.0, 26.0, 25.0, 24.0, 23.0, 22.0, 21.0, 20.0, 19.0, 18.0, 17.0, 16.0, 15.0, 14.0, 13.0, 12.0, 11.0, 10.0, 9.0, 8.0, 7.0, 6.0, 5.0, 4.0, 3.0, 2.0, 1.0, -3.1796, -4.7096, -5.1481, -5.1916, -5.2204, -5.3215, -5.4521, -5.4703, -5.5405, -5.5659, -5.863, -5.8815, -5.882, -5.9096, -5.9244, -5.9714, -5.9673, -5.7731, -5.9858, -6.04, -6.0568, -6.0667, -6.1174, -6.1311, -6.1652, -6.1676, -6.2879, -6.2972, -6.3306, -6.3637, -3.7013, -4.987, -5.0892, -4.7436, -4.2127, -5.1693, -3.4318, -5.9907, -4.9521, -3.9513, -4.3939, -5.1288, -4.7595, -4.0234, -4.3761, -3.4015, -4.3768, -4.1491, -4.4152, -4.9578, -4.3365, -4.4153, -5.1022, -4.7142, -4.8252, -5.1227, -5.0197, -5.1136, -5.1386, -5.2026, -5.3252, -5.9346, -6.1955, -6.2439, -5.9174, -6.4128, -6.0702, -6.1481, -6.6134, -6.5546, -6.6687, -6.6811, -6.7006, -6.7361, -6.7535, -6.7596, -6.6527, -6.8087, -6.6926, -6.9145, -6.9519, -6.9534, -6.961, -6.824, -6.9826, -6.9949, -6.9845, -6.9969, -7.0188, -6.2476, -6.5681, -6.2436, -6.8467, -6.444, -5.5855, -5.3424, -5.2609, -6.1424, -5.8257, -4.7206, -5.7013, -5.7602, -6.4567, -5.2897, -6.2863, -5.8254, -4.4379, -5.7449, -5.2274, -4.1822, -4.0579, -5.7555, -4.7178, -5.7485, -4.5602, -5.2876, -5.1747, -5.302, -5.1902, -4.4132, -3.7254, -5.3899, -5.1999, -5.4179, -4.7837, -5.2558, -5.438, -5.1606, -5.6468, -5.2814, -5.6659, -5.5635, -5.4418, -5.4852, -5.4485, -4.5532, -4.7037, -4.8042, -4.9167, -5.1754, -5.4784, -5.521, -5.7125, -5.8388, -5.8575, -5.7965, -6.0874, -6.1029, -6.2178, -6.2378, -6.4152, -6.425, -6.4965, -6.5003, -6.5455, -6.6122, -6.6551, -6.626, -6.6882, -6.546, -6.7213, -6.7576, -6.782, -6.8196, -6.8701, -6.7523, -5.2909, -5.4209, -6.6336, -5.1667, -6.5467, -6.1781, -6.2452, -5.933, -6.1739, -5.4817, -3.9177, -6.2683, -4.8203, -3.098, -5.0391, -5.4729, -5.126, -5.2204, -4.9667, -5.3026, -4.9621, -5.4456, -5.4932, -5.4552, -5.6747, -5.3578, -5.2842, -5.2802, -5.5777, -5.6211, -3.8143, -4.9604, -5.6616, -5.8359, -5.9638, -6.156, -6.0819, -6.3874, -6.4283, -6.4313, -6.494, -6.5286, -6.5466, -6.5784, -6.5767, -6.602, -6.634, -6.6547, -6.6617, -6.6781, -6.6918, -6.723, -6.7986, -6.8048, -6.8438, -6.8524, -6.859, -6.8824, -6.9167, -6.916, -4.9377, -6.2136, -5.6672, -6.4163, -4.4604, -6.039, -5.2035, -6.2002, -2.8597, -3.7806, -4.6353, -5.1106, -5.4906, -3.939, -6.0569, -5.4829, -5.2548, -4.882, -5.3413, -5.3662, -4.8029, -5.3925, -4.5666, -5.7692, -5.3374, -4.9581, -5.0839, -5.8338, -5.5556, -5.484, -5.506, -5.6272, -5.4593, -5.6288, -5.1865, -5.5304, -5.8678, -5.9465, -5.9627, -6.0554, -6.033, -6.1367, -6.1605, -6.2503, -6.2507, -6.2579, -6.317, -6.3306, -6.3095, -6.095, -6.391, -6.3852, -6.3936, -6.439, -6.4598, -6.4902, -6.4774, -6.5753, -6.5756, -6.577, -6.5589, -6.401, -6.6446, -6.6282, -4.7502, -6.4615, -5.1737, -5.916, -4.5077, -4.564, -5.8372, -5.9623, -5.7763, -4.7043, -4.9343, -4.3799, -5.5719, -5.8277, -5.6343, -5.9682, -4.6353, -5.7374, -5.6871, -4.4489, -5.2106, -5.0813, -4.8057, -5.357, -3.9201, -5.2628, -5.4767, -4.9881, -5.4424, -5.7245, -5.0992, -5.1891, -5.4594, -5.585, -5.7492], \"loglift\": [30.0, 29.0, 28.0, 27.0, 26.0, 25.0, 24.0, 23.0, 22.0, 21.0, 20.0, 19.0, 18.0, 17.0, 16.0, 15.0, 14.0, 13.0, 12.0, 11.0, 10.0, 9.0, 8.0, 7.0, 6.0, 5.0, 4.0, 3.0, 2.0, 1.0, 2.2946, 2.2925, 2.2911, 2.2909, 2.2908, 2.2904, 2.2897, 2.2896, 2.2893, 2.2891, 2.287, 2.2868, 2.2868, 2.2866, 2.2864, 2.2861, 2.286, 2.286, 2.2858, 2.2854, 2.2853, 2.285, 2.2847, 2.2845, 2.2841, 2.2841, 2.2827, 2.2826, 2.2821, 2.2816, 2.1331, 2.1635, 2.152, 2.0845, 1.8564, 2.024, 1.5528, 2.2259, 1.6819, 1.1062, 1.2293, 1.6748, 1.4057, 0.7814, 1.0369, 0.1042, 0.9677, 0.6936, 0.8748, 1.3764, 0.4919, 0.4631, 1.4387, -0.047, 0.1887, 1.1368, 0.4681, 0.8188, 0.8939, 1.4477, 1.4473, 1.446, 1.445, 1.4446, 1.4444, 1.444, 1.4436, 1.4434, 1.4428, 1.4423, 1.4422, 1.4422, 1.4421, 1.4419, 1.4418, 1.4417, 1.4414, 1.4414, 1.4411, 1.4404, 1.4402, 1.44, 1.44, 1.4399, 1.4399, 1.4398, 1.4398, 1.4396, 1.4396, 1.4383, 1.4387, 1.4294, 1.4383, 1.4241, 1.3904, 1.3772, 1.3633, 1.4049, 1.3847, 1.2852, 1.3511, 1.3267, 1.4017, 1.2203, 1.3729, 1.2683, 0.9751, 1.2494, 1.1245, 0.8023, 0.7469, 1.2147, 0.9054, 1.1926, 0.7298, 0.9719, 0.8256, 0.8896, 0.7881, 0.254, -0.2196, 0.869, 0.6931, 0.8106, 0.0589, 0.3741, 0.6452, -0.2822, 0.8942, -0.2675, 0.9457, 0.508, -0.0973, 0.0583, -0.62, 1.8425, 1.8423, 1.8422, 1.842, 1.8414, 1.8406, 1.8405, 1.8397, 1.8392, 1.8391, 1.8384, 1.8379, 1.8378, 1.8371, 1.837, 1.8356, 1.8355, 1.8348, 1.8347, 1.8344, 1.8339, 1.8334, 1.8334, 1.8331, 1.833, 1.8328, 1.8324, 1.8318, 1.8317, 1.8309, 1.8289, 1.7671, 1.7279, 1.8197, 1.6582, 1.8098, 1.7597, 1.7644, 1.6987, 1.7419, 1.5946, 1.2146, 1.7432, 1.1746, 0.4077, 0.854, 1.0669, 0.7214, 0.6982, 0.3233, 0.6972, 0.0955, 0.746, 0.5899, 0.4772, 0.8913, 0.0179, -0.4058, -0.4375, 0.0462, -0.6072, 2.2808, 2.2784, 2.275, 2.2738, 2.2727, 2.2708, 2.2706, 2.2678, 2.2673, 2.2671, 2.2662, 2.2658, 2.2654, 2.265, 2.2648, 2.2643, 2.2641, 2.2635, 2.2633, 2.2632, 2.2628, 2.2623, 2.2608, 2.2607, 2.2596, 2.2595, 2.2594, 2.259, 2.2583, 2.2579, 2.1978, 2.1764, 2.0983, 2.1455, 1.5179, 2.013, 1.7443, 2.0452, 0.6461, 1.0242, 1.3651, 1.5775, 1.7397, 0.9394, 1.9755, 1.5947, 1.3944, 1.0504, 1.3555, 1.2678, 0.7407, 1.2131, 0.2761, 1.54, 0.978, 0.3864, 0.5459, 1.5756, 0.673, 0.3503, -0.093, 0.3786, -0.7921, 0.2643, 0.9053, 0.9051, 0.9048, 0.9048, 0.9047, 0.9046, 0.9045, 0.9045, 0.9045, 0.9044, 0.9044, 0.9043, 0.9043, 0.9042, 0.9042, 0.9042, 0.9042, 0.9041, 0.9041, 0.9041, 0.904, 0.904, 0.9039, 0.9038, 0.9038, 0.9038, 0.9038, 0.9038, 0.9037, 0.9036, 0.8996, 0.9023, 0.888, 0.8937, 0.8476, 0.8295, 0.868, 0.8618, 0.8245, 0.6714, 0.6896, 0.4486, 0.7191, 0.7744, 0.7199, 0.7996, 0.3786, 0.7151, 0.6938, 0.2182, 0.5024, 0.4065, 0.2518, 0.4904, -0.4144, 0.3893, 0.5231, 0.1441, 0.4762, 0.6379, -0.2566, -0.3107, 0.0842, -0.2404, -0.1194]}, \"token.table\": {\"Topic\": [5, 3, 3, 4, 1, 1, 3, 2, 5, 1, 4, 1, 3, 5, 4, 5, 5, 5, 1, 3, 5, 5, 2, 4, 1, 1, 2, 3, 1, 5, 1, 3, 5, 3, 2, 3, 4, 1, 5, 5, 4, 4, 1, 2, 4, 5, 1, 2, 3, 4, 2, 4, 2, 4, 1, 4, 1, 2, 3, 4, 5, 3, 1, 5, 4, 1, 1, 4, 1, 2, 5, 2, 4, 3, 4, 2, 4, 2, 3, 1, 5, 2, 4, 4, 2, 2, 1, 2, 3, 4, 4, 5, 4, 4, 1, 2, 4, 2, 3, 4, 3, 5, 5, 1, 2, 3, 4, 5, 1, 2, 4, 3, 2, 3, 4, 5, 5, 2, 5, 1, 2, 3, 4, 5, 4, 3, 1, 2, 4, 2, 1, 1, 1, 3, 5, 2, 1, 4, 4, 3, 5, 2, 3, 5, 1, 2, 3, 4, 1, 2, 3, 4, 5, 1, 4, 3, 1, 4, 3, 4, 5, 3, 5, 5, 1, 2, 3, 4, 5, 1, 2, 1, 5, 3, 4, 5, 2, 2, 2, 3, 4, 5, 5, 1, 2, 3, 3, 4, 4, 2, 4, 1, 2, 4, 1, 2, 3, 4, 5, 3, 3, 1, 3, 1, 2, 3, 4, 5, 3, 4, 1, 1, 1, 2, 1, 2, 2, 2, 4, 3, 4, 1, 2, 3, 4, 5, 2, 3, 2, 5, 5, 1, 3, 5, 3, 4, 3, 2, 2, 3, 5, 3, 3, 4, 5, 3, 5, 4, 2, 5, 2, 4, 1, 2, 3, 3, 4, 1, 2, 4, 1, 2, 4, 5, 3, 4, 3, 4, 3, 1, 2, 5, 1, 2, 5, 1, 2, 3, 3, 4, 4, 4, 3, 1, 2, 4, 5, 5, 2, 3, 2, 2, 3, 4, 5, 2, 4, 2, 2, 4, 5, 1, 4, 2, 3, 1, 2, 3, 4, 5, 1, 1, 4, 3, 2, 3, 4, 3, 1, 2, 3, 4, 5, 3, 3, 3, 4, 1, 2, 3, 4, 1, 4, 2, 5, 1, 2, 3, 4, 4, 1, 2, 4, 5, 5, 1, 2, 3, 4, 4, 2, 5, 3, 5, 5, 2, 3, 4, 5, 2, 1, 2, 3, 4, 5, 1, 2, 3, 4, 2, 1, 2, 3, 4, 1, 2, 3, 4, 5, 2, 1, 2, 4, 5, 5, 2, 1, 3, 2, 3, 5, 2, 1, 2, 3, 5, 5, 1, 2, 4, 1, 1, 3, 4, 1, 2, 3, 5, 1, 2, 3, 4, 5, 2, 3, 5, 1, 2, 3, 4, 5, 2, 1, 3, 1, 1, 2, 3, 4, 2, 3, 5, 3, 3, 4, 5, 2, 2, 2, 1, 2, 3, 4, 5, 1, 5, 3, 1, 2, 3, 4, 5, 1, 4, 3, 5, 2, 4, 2, 1, 2, 4, 1, 2, 1, 4, 1, 2, 4, 4, 4, 1, 2, 3, 4, 5, 3, 3], \"Freq\": [0.9750847187641123, 0.9376996687308272, 1.0751398195822073, 0.9585083875236889, 0.8881740787162088, 0.18404140525027643, 0.8465904641512716, 0.9092753842272383, 1.0272630484553706, 0.9877342253369521, 1.0779296691548452, 1.0235228355732013, 1.0446896748479932, 0.9754777966429352, 0.011365139710617691, 0.9887671548237391, 0.9973597217626434, 1.0094047785663893, 0.30172325576575354, 0.1760052325300229, 0.5217297964282822, 0.9863110313313498, 0.860896438493316, 0.09565515983259067, 1.0152732738900458, 0.9702487349900082, 0.5258393890464326, 0.4704878744099659, 1.0116319508288716, 0.992896898571365, 0.9251755710697033, 0.18887665809464246, 0.8027257969022304, 0.9310536409301959, 0.9275669397078149, 0.03312739070385053, 0.03312739070385053, 1.0128166983770743, 0.9787503949626208, 0.9798651825275203, 1.0871974031359988, 0.9934256821154087, 0.16431247900359353, 0.20297423876914492, 0.02899631982416356, 0.6089227163074348, 0.01613732769444232, 0.5325318139165965, 0.04841198308332696, 0.403433192361058, 0.5866267300305047, 0.40137618370508216, 0.9416434904532776, 0.04280197683878534, 0.9362426149830426, 0.8956421867855493, 1.0690786689595966, 0.09293450894012138, 0.9293450894012139, 1.0739163778926741, 0.991516306623023, 0.9434748836604642, 0.10429102481297012, 0.9038555483790743, 0.836172272474712, 0.9030334333023243, 0.8122680592696304, 0.1846063771067342, 0.09685644533899723, 0.24214111334749308, 0.665888061705606, 0.8186454896453631, 0.1444668511138876, 1.021487535023496, 0.9558815771180951, 0.9505725955143747, 0.8504216583401476, 0.8284008202143812, 0.17440017267671185, 1.005316664454202, 0.9887399285310308, 0.4738615647644972, 0.5212477212409469, 1.0069349106661005, 0.9425325147500723, 1.0264845160338103, 0.2379407196896312, 0.48381279670225014, 0.2220780050436558, 0.05551950126091395, 0.9180109476354319, 0.9825302634755806, 0.9131751665776238, 0.931103591403571, 0.28700537687650557, 0.6188553438899651, 0.08968918027390799, 0.9600130670233785, 0.18855956703684437, 0.8485180516657996, 0.535114580400559, 0.4673785575650452, 1.0236244856030086, 0.060823032404425645, 0.1621947530784684, 0.0810973765392342, 0.20274344134808547, 0.48658425923540516, 0.921384815669955, 0.9184277670625339, 0.9288858572228005, 0.9960718816979056, 0.14198093369632714, 0.7572316463804115, 0.09465395579755144, 1.0109921329766163, 0.9701895668183982, 0.962390799443875, 1.007923144520047, 0.16496243215669257, 0.12497153951264588, 0.03999089264404668, 0.03999089264404668, 0.6348554207242411, 1.0551177087500399, 0.9851739116956524, 0.8798304482168313, 1.0087262481307209, 1.002218914717028, 1.0678947918894521, 1.001158695108063, 1.0312927445951652, 0.02974058644299081, 0.31227615765140354, 0.6542929017457978, 0.9891305639078509, 0.2511029110990194, 0.7533087332970583, 1.1578297957286527, 0.32256346372610617, 0.677383273824823, 0.940210219314706, 0.03265309620313939, 0.9469397898910423, 0.07814993074652199, 0.5665869979122844, 0.3321372056727184, 0.019537482686630497, 0.20281373536991693, 0.24844682582814823, 0.10140686768495846, 0.13689927137469393, 0.31436128982337125, 1.0642523555667243, 1.03146598037995, 0.9279726121592886, 1.0068759697657959, 1.0174042197712978, 0.1661197884939644, 0.033223957698792876, 0.8084496373372934, 0.08824516563993341, 0.9118667116126452, 0.9886698428492129, 0.07153877990239434, 0.24527581680820917, 0.030659477101026147, 0.21461633970718302, 0.43945250511470807, 1.0204617076133136, 0.9312188406751204, 0.01715751601107294, 0.9779784126311575, 0.1641645850665582, 0.05184144791575522, 0.7949022013749134, 0.9509664711522454, 0.9983579440141681, 0.11494507242345833, 0.022989014484691667, 0.022989014484691667, 0.8276045214489001, 1.005260722197946, 0.05682272110553971, 0.5682272110553971, 0.39775904773877796, 0.8808583248051155, 1.1081257353595944, 1.0569303344781877, 0.9240869580303007, 0.09240869580303007, 0.015784451022434018, 0.5208868837403227, 0.47353353067302056, 0.05695517694197906, 0.23921174315631205, 0.04556414155358325, 0.06834621233037487, 0.5923338401965822, 0.9190792396995573, 0.9997798621443763, 0.8929779600233008, 0.1116222450029126, 0.12035147108724441, 0.1805272066308666, 0.08424602976107108, 0.02407029421744888, 0.5897222083274976, 0.8440289923780312, 0.12057557033971875, 0.9383311927850181, 1.010714938104778, 0.41561093692511264, 0.5818553116951577, 1.0310019875313412, 1.0143337495266627, 1.0261811222164248, 0.9853739642539728, 0.0757979972503056, 0.8765312608863028, 0.10956640761078786, 0.2680124193247374, 0.20938470259745112, 0.050252328623388264, 0.1507569858701648, 0.3182647479481257, 0.9108926973250376, 0.992757090853013, 0.03677313202819953, 0.9561014327331879, 1.009409695724395, 0.013847733874760773, 0.3323456129942586, 0.6646912259885172, 0.824772821431094, 0.1649545642862188, 0.9989653086228869, 1.029829110201274, 0.455786133339132, 0.28048377436254274, 0.26295353846488384, 1.0456166645272555, 0.05079369225176097, 0.008465615375293493, 0.9396833066575778, 0.23176398926439992, 0.7648211645725197, 1.156660414889179, 1.0198842592474904, 1.0013716170131466, 0.9324647836193672, 0.08476952578357884, 0.06022140869725557, 0.9033211304588336, 0.030110704348627785, 0.990185520449549, 1.0378631286562383, 0.5473796674193, 0.09122994456988333, 0.3649197782795333, 0.20692065775382867, 0.44340140947249, 0.354721127577992, 1.0076692994453784, 0.10042510744734416, 0.9038259670260974, 0.15234395665604236, 0.7617197832802118, 1.0064345636548773, 0.022934159067361466, 0.7338930901555669, 0.25227574974097616, 0.12402365022410697, 0.7854831180860108, 0.08268243348273799, 0.08058583832831388, 0.8058583832831387, 0.10744778443775184, 0.17604320097025447, 0.8802160048512723, 1.0197275395749807, 0.916602098665164, 0.9810668426359521, 0.2499590581739647, 0.23329512096236704, 0.04999181163479294, 0.4665902419247341, 0.9773587610152954, 1.0585297058910064, 1.0275862741097217, 1.0599431684868235, 0.9454645593803969, 0.0439778262542629, 0.03518226100341032, 0.9235343513395209, 0.48148529840027837, 0.48148529840027837, 1.0074286068718643, 0.843701262798372, 0.1460252185612567, 1.0240749917541603, 0.9945965896614539, 1.094170856215991, 0.9537454810855384, 1.0037446598216306, 0.6395140602847725, 0.03456832758296068, 0.15555747412332305, 0.12098914654036237, 0.05185249137444102, 1.0165910254078252, 0.5376418039999861, 0.4779038257777654, 1.0070725496789723, 0.9204847563324651, 0.8960129542890765, 0.11200161928613456, 1.0372082506704092, 0.22614520674395996, 0.09045808269758399, 0.25629790097648797, 0.28645059520901595, 0.13568712404637598, 1.0365561396294467, 0.9680115709629494, 0.915914905217183, 0.10176832280190923, 0.31365901182050027, 0.6273180236410005, 0.02091060078803335, 0.0418212015760667, 0.24623869365823178, 0.7387160809746953, 0.17264929276704608, 0.8200841406434689, 1.0544364183818529, 0.38640034415304375, 0.05520004916472054, 0.607200540811926, 0.9017627793047419, 0.11056452698224394, 0.022112905396448786, 0.26535486475738546, 0.5970484457041172, 0.9982211636176923, 0.08359208984148483, 0.5642466064300227, 0.20898022460371207, 0.14628615722259847, 1.1195842824804776, 0.5270867799499267, 0.466269074571089, 0.9713863533194707, 1.0129656293717277, 0.9984816295195258, 0.22666412141877082, 0.25904471019288094, 0.3885670652893214, 0.09714176632233035, 0.922135177834804, 0.4055729732351493, 0.11265915923198593, 0.022531831846397184, 0.022531831846397184, 0.42810480508154647, 0.9873230073010258, 1.0328618145478345, 1.002558054058353, 0.8777989291545163, 0.9437973407154193, 0.12839153823918192, 0.33702778787785254, 0.5135661529567277, 0.03209788455979548, 0.04161681884931092, 0.08323363769862184, 0.2913177319451764, 0.5826354638903528, 1.0039164668989884, 1.0477188306804353, 0.418621758363108, 0.019028261743777634, 0.019028261743777634, 0.5518195905695514, 0.9847968689789959, 0.9602405346220675, 0.9902181174481102, 0.9611265683882505, 0.8087314238112713, 0.1276944353386218, 0.08512962355908119, 0.9968929068419969, 0.05197943378875425, 0.39850899238044923, 0.0346529558591695, 0.5371208158171272, 0.9912016737874286, 0.3430639698438249, 0.5754621429638354, 0.07746605770667014, 0.9340688601284793, 0.8664448935684749, 0.05096734668049852, 0.05096734668049852, 0.5404406520543621, 0.21617626082174482, 0.14411750721449657, 0.14411750721449657, 0.025362996837188786, 0.05072599367437757, 0.025362996837188786, 0.05072599367437757, 0.8369788956272299, 0.12034827633242864, 0.9627862106594292, 1.0111128978809352, 0.1118666296016514, 0.1891078738504107, 0.23838246069875715, 0.1944348562123941, 0.26768086368966587, 0.932195897129852, 1.0301650769190773, 0.9145279276175912, 0.9090267074394301, 0.028989145531910586, 0.4638263285105694, 0.3768588919148376, 0.13045115489359763, 0.5947618386382623, 0.3271190112510442, 0.08921427579573933, 0.9955090930188375, 0.08836184077012404, 0.02945394692337468, 0.8836184077012404, 1.0203544945870189, 1.0128446083088083, 0.9577643354510244, 0.15764200071306728, 0.17866093414147624, 0.10509466714204485, 0.2627366678551121, 0.29426506799772556, 0.9693323953353868, 0.9825973097494378, 1.0657166870012738, 0.09784681073432973, 0.30204885052771346, 0.051050509948345944, 0.04679630078598378, 0.5019966811587351, 0.7448207446483577, 0.2128059270423879, 1.0109967086792642, 0.9955890738948362, 0.9199387350380409, 0.05411404323753182, 0.931121776676649, 0.21968326503379096, 0.49306688374250857, 0.2831473193768861, 0.4733026136899313, 0.5258917929888126, 0.8474833997498665, 0.1503599580201376, 0.13205360900799576, 0.39616082702398725, 0.46218763152798514, 1.10600485900935, 0.9578307337961923, 0.011140636453188166, 0.3453597300488332, 0.11140636453188167, 0.17825018325101066, 0.3565003665020213, 1.025496406740403, 1.0074396382365405], \"Term\": [\"abertura\", \"aborto\", \"absorvente\", \"achar\", \"acima\", \"adolescente\", \"adolescente\", \"adotar\", \"agente\", \"aguardar\", \"alguem\", \"amanha\", \"ambiente\", \"amiga\", \"amigo\", \"amigo\", \"amor\", \"aniversario\", \"ano\", \"ano\", \"ano\", \"antonio\", \"anvisa\", \"anvisa\", \"aplicacao\", \"aplicar\", \"aprovar\", \"aprovar\", \"aracaju\", \"associacao\", \"astrazeneca\", \"aula\", \"aula\", \"autoria\", \"auxilio\", \"auxilio\", \"auxilio\", \"avancar\", \"bairro\", \"bebe\", \"bolsonarista\", \"bolsonaro\", \"bom\", \"bom\", \"bom\", \"bom\", \"brasil\", \"brasil\", \"brasil\", \"brasil\", \"brasileiro\", \"brasileiro\", \"butantan\", \"butantan\", \"cadastro\", \"cair\", \"calendario\", \"camara\", \"camara\", \"cara\", \"carinho\", \"carta\", \"centro\", \"centro\", \"chamar\", \"chegada\", \"chegar\", \"chegar\", \"cidade\", \"cidade\", \"cidade\", \"ciencia\", \"ciencia\", \"civil\", \"cloroquina\", \"codigo\", \"coisa\", \"combate\", \"combate\", \"comorbidade\", \"companheiro\", \"compra\", \"compra\", \"comprar\", \"conectar\", \"consorcio\", \"contra\", \"contra\", \"contra\", \"contra\", \"contrato\", \"coracao\", \"corrupcao\", \"covaxin\", \"covid\", \"covid\", \"covid\", \"covo\", \"cpi\", \"cpi\", \"crianca\", \"crianca\", \"cultura\", \"dar\", \"dar\", \"dar\", \"dar\", \"dar\", \"data\", \"decreto\", \"depoimento\", \"deputada\", \"deputado\", \"deputado\", \"deputado\", \"desejo\", \"desigualdade\", \"detalhe\", \"deus\", \"dia\", \"dia\", \"dia\", \"dia\", \"dia\", \"dinheiro\", \"direito\", \"disponivel\", \"distanciamento\", \"dizer\", \"doacao\", \"dose\", \"drive\", \"educacao\", \"educacao\", \"educacao\", \"emergencial\", \"enquanto\", \"enquanto\", \"escandalo\", \"escola\", \"escola\", \"esforco\", \"espaco\", \"espaco\", \"estado\", \"estado\", \"estado\", \"estado\", \"estar\", \"estar\", \"estar\", \"estar\", \"estar\", \"etario\", \"eua\", \"expor\", \"faixa\", \"falta\", \"familia\", \"familia\", \"familia\", \"familiar\", \"familiar\", \"favela\", \"fazer\", \"fazer\", \"fazer\", \"fazer\", \"fazer\", \"feira\", \"felicidade\", \"feliz\", \"feliz\", \"filho\", \"filho\", \"filho\", \"fio\", \"fiocruz\", \"forca\", \"forca\", \"forca\", \"forca\", \"franco\", \"garantir\", \"garantir\", \"garantir\", \"garoto\", \"genocer\", \"genocida\", \"governador\", \"governador\", \"governo\", \"governo\", \"governo\", \"grande\", \"grande\", \"grande\", \"grande\", \"grande\", \"gravida\", \"greve\", \"grupo\", \"grupo\", \"hoje\", \"hoje\", \"hoje\", \"hoje\", \"hoje\", \"humano\", \"humano\", \"idade\", \"idoso\", \"imunizacao\", \"imunizacao\", \"imunizar\", \"india\", \"instituto\", \"insumo\", \"insumo\", \"investigacao\", \"investigacao\", \"ir\", \"ir\", \"ir\", \"ir\", \"ir\", \"israel\", \"jacarezinho\", \"joao\", \"joao\", \"jose\", \"jovem\", \"jovem\", \"jovem\", \"justica\", \"justica\", \"lei\", \"leito\", \"luta\", \"luta\", \"luta\", \"luto\", \"mae\", \"mae\", \"mae\", \"maes\", \"maes\", \"mandar\", \"maranhao\", \"maria\", \"massa\", \"massa\", \"medida\", \"medida\", \"medida\", \"menina\", \"mentira\", \"mil\", \"mil\", \"mil\", \"milhao\", \"milhao\", \"milhao\", \"monteiro\", \"morte\", \"morte\", \"morto\", \"morto\", \"mulher\", \"municipal\", \"municipal\", \"municipal\", \"municipio\", \"municipio\", \"municipio\", \"nacional\", \"nacional\", \"nacional\", \"nada\", \"nada\", \"negacionismo\", \"negar\", \"negro\", \"novo\", \"novo\", \"novo\", \"novo\", \"ocupacao\", \"oms\", \"operacao\", \"outubro\", \"paciente\", \"pai\", \"pai\", \"pai\", \"pais\", \"pais\", \"palma\", \"pandemia\", \"pandemia\", \"papai\", \"partir\", \"passaporte\", \"patente\", \"pec\", \"pessoa\", \"pessoa\", \"pessoa\", \"pessoa\", \"pessoa\", \"pessoal\", \"pfizer\", \"pfizer\", \"pl\", \"pni\", \"pobre\", \"pobre\", \"pobreza\", \"poder\", \"poder\", \"poder\", \"poder\", \"poder\", \"policia\", \"policial\", \"politica\", \"politica\", \"populacao\", \"populacao\", \"populacao\", \"populacao\", \"porque\", \"porque\", \"porto\", \"porto\", \"posto\", \"povo\", \"povo\", \"povo\", \"pq\", \"pra\", \"pra\", \"pra\", \"pra\", \"praca\", \"precisar\", \"precisar\", \"precisar\", \"precisar\", \"preco\", \"prefeito\", \"prefeito\", \"prender\", \"presencial\", \"presente\", \"presidente\", \"presidente\", \"presidente\", \"presidente\", \"prevent\", \"primeiro\", \"primeiro\", \"primeiro\", \"primeiro\", \"primeiro\", \"prioritario\", \"producao\", \"projeto\", \"propina\", \"psol\", \"publico\", \"publico\", \"publico\", \"publico\", \"querer\", \"querer\", \"querer\", \"querer\", \"querido\", \"racismo\", \"receber\", \"receber\", \"receber\", \"receber\", \"recebir\", \"recife\", \"reforco\", \"reforma\", \"reuniao\", \"reuniao\", \"reuniao\", \"sabotar\", \"sao\", \"sao\", \"sao\", \"sao\", \"saudade\", \"saude\", \"saude\", \"saude\", \"segunda\", \"segundo\", \"segundo\", \"segundo\", \"semana\", \"semana\", \"semana\", \"semana\", \"sempre\", \"sempre\", \"sempre\", \"sempre\", \"sempre\", \"senado\", \"senado\", \"sentimento\", \"ser\", \"ser\", \"ser\", \"ser\", \"ser\", \"setembro\", \"sexta\", \"sexual\", \"site\", \"sobre\", \"sobre\", \"sobre\", \"sobre\", \"social\", \"social\", \"social\", \"sociedade\", \"solidariedade\", \"solidariedade\", \"solidariedade\", \"solucao\", \"sp\", \"tecnico\", \"ter\", \"ter\", \"ter\", \"ter\", \"ter\", \"thru\", \"to\", \"tocantim\", \"todo\", \"todo\", \"todo\", \"todo\", \"todo\", \"tomar\", \"tomar\", \"transporte\", \"tristeza\", \"uso\", \"uso\", \"uti\", \"vacina\", \"vacina\", \"vacina\", \"vacinacao\", \"vacinacao\", \"vacinar\", \"vacinar\", \"vacino\", \"vacino\", \"vacino\", \"vc\", \"verdade\", \"vida\", \"vida\", \"vida\", \"vida\", \"vida\", \"violencia\", \"votar\"]}, \"R\": 30, \"lambda.step\": 0.01, \"plot.opts\": {\"xlab\": \"PC1\", \"ylab\": \"PC2\"}, \"topic.order\": [1, 2, 3, 4, 5]};\n",
       "\n",
       "function LDAvis_load_lib(url, callback){\n",
       "  var s = document.createElement('script');\n",
       "  s.src = url;\n",
       "  s.async = true;\n",
       "  s.onreadystatechange = s.onload = callback;\n",
       "  s.onerror = function(){console.warn(\"failed to load library \" + url);};\n",
       "  document.getElementsByTagName(\"head\")[0].appendChild(s);\n",
       "}\n",
       "\n",
       "if(typeof(LDAvis) !== \"undefined\"){\n",
       "   // already loaded: just create the visualization\n",
       "   !function(LDAvis){\n",
       "       new LDAvis(\"#\" + \"ldavis_el122362017569992688184423645\", ldavis_el122362017569992688184423645_data);\n",
       "   }(LDAvis);\n",
       "}else if(typeof define === \"function\" && define.amd){\n",
       "   // require.js is available: use it to load d3/LDAvis\n",
       "   require.config({paths: {d3: \"https://d3js.org/d3.v5\"}});\n",
       "   require([\"d3\"], function(d3){\n",
       "      window.d3 = d3;\n",
       "      LDAvis_load_lib(\"https://cdn.jsdelivr.net/gh/bmabey/pyLDAvis@3.4.0/pyLDAvis/js/ldavis.v3.0.0.js\", function(){\n",
       "        new LDAvis(\"#\" + \"ldavis_el122362017569992688184423645\", ldavis_el122362017569992688184423645_data);\n",
       "      });\n",
       "    });\n",
       "}else{\n",
       "    // require.js not available: dynamically load d3 & LDAvis\n",
       "    LDAvis_load_lib(\"https://d3js.org/d3.v5.js\", function(){\n",
       "         LDAvis_load_lib(\"https://cdn.jsdelivr.net/gh/bmabey/pyLDAvis@3.4.0/pyLDAvis/js/ldavis.v3.0.0.js\", function(){\n",
       "                 new LDAvis(\"#\" + \"ldavis_el122362017569992688184423645\", ldavis_el122362017569992688184423645_data);\n",
       "            })\n",
       "         });\n",
       "}\n",
       "</script>"
      ],
      "text/plain": [
       "PreparedData(topic_coordinates=              x         y  topics  cluster       Freq\n",
       "topic                                                \n",
       "0     -0.132170 -0.167923       1        1  10.074627\n",
       "1     -0.111709  0.027078       2        1  23.474015\n",
       "2      0.108430  0.223426       3        1  15.821437\n",
       "3     -0.125114  0.056726       4        1  10.209609\n",
       "4      0.260563 -0.139308       5        1  40.420312, topic_info=          Term        Freq       Total Category  logprob  loglift\n",
       "41         ser  750.000000  750.000000  Default  30.0000  30.0000\n",
       "613       dose  104.000000  104.000000  Default  29.0000  29.0000\n",
       "257  vacinacao  171.000000  171.000000  Default  28.0000  28.0000\n",
       "209     vacina  204.000000  204.000000  Default  27.0000  27.0000\n",
       "522    crianca  147.000000  147.000000  Default  26.0000  26.0000\n",
       "..         ...         ...         ...      ...      ...      ...\n",
       "56       estar   61.678043  197.225301   Topic5  -5.0992  -0.2566\n",
       "293        ter   56.376162  190.304613   Topic5  -5.1891  -0.3107\n",
       "302      fazer   43.026231   97.849027   Topic5  -5.4594   0.0842\n",
       "28          ir   37.947299  119.397452   Topic5  -5.5850  -0.2404\n",
       "449       vida   32.199453   89.761479   Topic5  -5.7492  -0.1194\n",
       "\n",
       "[355 rows x 6 columns], token_table=      Topic      Freq        Term\n",
       "term                             \n",
       "5628      5  0.975085    abertura\n",
       "6568      3  0.937700      aborto\n",
       "2309      3  1.075140  absorvente\n",
       "891       4  0.958508       achar\n",
       "147       1  0.888174       acima\n",
       "...     ...       ...         ...\n",
       "449       3  0.111406        vida\n",
       "449       4  0.178250        vida\n",
       "449       5  0.356500        vida\n",
       "466       3  1.025496   violencia\n",
       "4004      3  1.007440       votar\n",
       "\n",
       "[478 rows x 3 columns], R=30, lambda_step=0.01, plot_opts={'xlab': 'PC1', 'ylab': 'PC2'}, topic_order=[1, 2, 3, 4, 5])"
      ]
     },
     "execution_count": 7,
     "metadata": {},
     "output_type": "execute_result"
    }
   ],
   "source": [
    "# Visualize the topics\n",
    "pyLDAvis.enable_notebook()\n",
    "LDAvis_prepared = pyLDAvis.gensim.prepare(lda_model, doc_lda, id2word, sort_topics=False)   \n",
    "LDAvis_prepared"
   ]
  },
  {
   "cell_type": "markdown",
   "metadata": {},
   "source": [
    "Criando uma coluna chamada `td` contendo a distribuição de tópicos para cada documento (*topic distribution*)."
   ]
  },
  {
   "cell_type": "code",
   "execution_count": 10,
   "metadata": {},
   "outputs": [],
   "source": [
    "topics_cols = [x for x in df_tweets.columns.to_list() if re.match(r'topic_\\d+_prob', x)]\n",
    "\n",
    "df_tweets['topic_num'] = df_tweets[topics_cols].idxmax(axis=1)\n",
    "df_tweets['topic_num'] = df_tweets['topic_num'].apply(lambda x: int(re.findall(r'(\\d+)', x)[0]))\n",
    "\n",
    "df_tweets['td'] = df_tweets[topics_cols].apply(lambda row: [x for x in row], axis=1)"
   ]
  },
  {
   "cell_type": "markdown",
   "metadata": {},
   "source": [
    "Agora, quem estiver analisando os dados, atráves da visualização forncedida pela ferramenta `pyLDAvis`, assim como analisando as postagens mais prováveis de cada tópico, pode tentar atribuir um nome significativo para os tópicos encontrados pelo modelo de LDA."
   ]
  },
  {
   "cell_type": "code",
   "execution_count": 11,
   "metadata": {},
   "outputs": [],
   "source": [
    "df_tweets['topic_label'] = df_tweets['topic_num'].map({\n",
    "    0: 'Tópico 1',\n",
    "    1: 'Tópico 2',\n",
    "    2: 'Tópico 3',\n",
    "    3: 'Tópico 4',\n",
    "    4: 'Tópico 5'\n",
    "})"
   ]
  },
  {
   "cell_type": "markdown",
   "metadata": {},
   "source": [
    "Salvando o dataset já contendo as distribuições de tópico."
   ]
  },
  {
   "cell_type": "code",
   "execution_count": 12,
   "metadata": {},
   "outputs": [],
   "source": [
    "df_tweets.to_csv('../dados/tweets_prefeitos_2020_preprocessado_com_td.csv.gzip', compression='gzip', index=False)"
   ]
  }
 ],
 "metadata": {
  "kernelspec": {
   "display_name": "Python 3",
   "language": "python",
   "name": "python3"
  },
  "language_info": {
   "codemirror_mode": {
    "name": "ipython",
    "version": 3
   },
   "file_extension": ".py",
   "mimetype": "text/x-python",
   "name": "python",
   "nbconvert_exporter": "python",
   "pygments_lexer": "ipython3",
   "version": "3.10.4"
  },
  "orig_nbformat": 4
 },
 "nbformat": 4,
 "nbformat_minor": 2
}
